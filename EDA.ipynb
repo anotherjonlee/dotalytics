{
 "cells": [
  {
   "cell_type": "code",
   "execution_count": 1,
   "metadata": {},
   "outputs": [],
   "source": [
    "import pyspark as ps"
   ]
  },
  {
   "cell_type": "code",
   "execution_count": 2,
   "metadata": {},
   "outputs": [],
   "source": [
    "from pyspark.sql.types import *"
   ]
  },
  {
   "cell_type": "code",
   "execution_count": 3,
   "metadata": {},
   "outputs": [],
   "source": [
    "from pyspark.sql import functions as func\n",
    "from pyspark.sql.window import Window"
   ]
  },
  {
   "cell_type": "code",
   "execution_count": 4,
   "metadata": {},
   "outputs": [],
   "source": [
    "import pandas as pd\n",
    "import numpy as np\n",
    "import scipy.stats as stats\n",
    "import matplotlib.pyplot as plt\n",
    "import seaborn as sns\n",
    "%matplotlib inline\n",
    "plt.style.use('ggplot')"
   ]
  },
  {
   "cell_type": "code",
   "execution_count": 5,
   "metadata": {},
   "outputs": [],
   "source": [
    "import requests \n",
    "import pprint\n",
    "import json"
   ]
  },
  {
   "cell_type": "code",
   "execution_count": 106,
   "metadata": {},
   "outputs": [],
   "source": [
    "import scipy.stats as stats"
   ]
  },
  {
   "cell_type": "code",
   "execution_count": 6,
   "metadata": {},
   "outputs": [],
   "source": [
    "## Retrieving a missing hero names and roles information from the API.\n",
    "\n",
    "r = requests.get('https://api.opendota.com/api/heroes')\n",
    "hero_list = json.loads(r.text)\n",
    "\n",
    "## Saving the API info as a dataframe\n",
    "hero_df = pd.DataFrame(hero_list)\n",
    "hero_df.drop(['name','primary_attr','legs'],axis=1,inplace = True)"
   ]
  },
  {
   "cell_type": "code",
   "execution_count": 7,
   "metadata": {},
   "outputs": [],
   "source": [
    "spark = (ps.sql.SparkSession\n",
    "         .builder\n",
    "         .master('local[2]')\n",
    "         .appName('capstone')\n",
    "         .getOrCreate()\n",
    "        )"
   ]
  },
  {
   "cell_type": "code",
   "execution_count": 8,
   "metadata": {},
   "outputs": [],
   "source": [
    "samples_eda = spark.read.csv('players_larger_sample.csv',\n",
    "                             header = True,\n",
    "                             sep=',',\n",
    "                             inferSchema=True)"
   ]
  },
  {
   "cell_type": "code",
   "execution_count": 9,
   "metadata": {},
   "outputs": [
    {
     "data": {
      "text/plain": [
       "DataFrame[match_id: bigint, account_id: bigint, player_slot: int, hero_id: int, item_0: int, item_1: int, item_2: int, item_3: int, item_4: int, item_5: int, kills: int, deaths: int, assists: int, leaver_status: int, gold: int, last_hits: int, denies: int, gold_per_min: int, xp_per_min: int, gold_spent: int, hero_damage: int, tower_damage: int, hero_healing: int, level: int, additional_units: string, stuns: string, max_hero_hit: string, times: string, gold_t: string, lh_t: string, xp_t: string, obs_log: string, sen_log: string, purchase_log: string, kills_log: string, buyback_log: string, lane_pos: string, obs: string, sen: string, actions: string, pings: string, purchase: string, gold_reasons: string, xp_reasons: string, killed: string, item_uses: string, ability_uses: string, hero_hits: string, damage: string, damage_taken: string, damage_inflictor: string, runes: string, killed_by: string, kill_streaks: string, multi_kills: string, life_state: string]"
      ]
     },
     "execution_count": 9,
     "metadata": {},
     "output_type": "execute_result"
    }
   ],
   "source": [
    "samples_eda.cache()"
   ]
  },
  {
   "cell_type": "code",
   "execution_count": 10,
   "metadata": {},
   "outputs": [
    {
     "name": "stdout",
     "output_type": "stream",
     "text": [
      "+--------+----------+-----------+-------+------+------+------+------+------+------+-----+------+-------+-------------+-------+---------+------+------------+----------+----------+-----------+------------+------------+-----+----------------+-------+------------+-------+-------+-------+-------+-------+-------+------------+---------+-----------+--------+-------+-------+-------+-------+--------+------------+----------+-------+---------+------------+---------+-------+------------+----------------+-------+---------+------------+-----------+----------+\n",
      "|match_id|account_id|player_slot|hero_id|item_0|item_1|item_2|item_3|item_4|item_5|kills|deaths|assists|leaver_status|   gold|last_hits|denies|gold_per_min|xp_per_min|gold_spent|hero_damage|tower_damage|hero_healing|level|additional_units|  stuns|max_hero_hit|  times| gold_t|   lh_t|   xp_t|obs_log|sen_log|purchase_log|kills_log|buyback_log|lane_pos|    obs|    sen|actions|  pings|purchase|gold_reasons|xp_reasons| killed|item_uses|ability_uses|hero_hits| damage|damage_taken|damage_inflictor|  runes|killed_by|kill_streaks|multi_kills|life_state|\n",
      "+--------+----------+-----------+-------+------+------+------+------+------+------+-----+------+-------+-------------+-------+---------+------+------------+----------+----------+-----------+------------+------------+-----+----------------+-------+------------+-------+-------+-------+-------+-------+-------+------------+---------+-----------+--------+-------+-------+-------+-------+--------+------------+----------+-------+---------+------------+---------+-------+------------+----------------+-------+---------+------------+-----------+----------+\n",
      "|       0|   1130038|          0|      0|     0|     0|     0|     0|     0|     0|    0|     0|      0|          141|1062400|        0|     0|           0|         0|   1062400|    1062400|     1062400|     1062400|    0|         1133124|1132027|     1131637|1131637|1131637|1131637|1131637|1137337|1137334|     1137334|  1137334|    1137334| 1137334|1137334|1137334|1137334|1137334| 1137334|     1137334|   1137334|1137334|  1137334|     1137334|  1137334|1137334|     1137334|         1137334|1137334|  1137334|     1137334|    1137334|   1137334|\n",
      "+--------+----------+-----------+-------+------+------+------+------+------+------+-----+------+-------+-------------+-------+---------+------+------------+----------+----------+-----------+------------+------------+-----+----------------+-------+------------+-------+-------+-------+-------+-------+-------+------------+---------+-----------+--------+-------+-------+-------+-------+--------+------------+----------+-------+---------+------------+---------+-------+------------+----------------+-------+---------+------------+-----------+----------+\n",
      "\n"
     ]
    }
   ],
   "source": [
    "samples_eda.select([func.count(func.when(func.col(c).isNull(), c)).alias(c) for c in samples_eda.columns]).show()"
   ]
  },
  {
   "cell_type": "code",
   "execution_count": 11,
   "metadata": {},
   "outputs": [
    {
     "name": "stdout",
     "output_type": "stream",
     "text": [
      "+-------+-----+------+-------+------------+----------+\n",
      "|hero_id|kills|deaths|assists|gold_per_min|xp_per_min|\n",
      "+-------+-----+------+-------+------------+----------+\n",
      "|     14|   19|     8|      2|         338|       559|\n",
      "|     32|    5|     2|      9|         280|       432|\n",
      "|    100|    7|    19|     11|         357|       411|\n",
      "|     76|    7|    10|     21|         438|       469|\n",
      "|     86|   11|     5|     36|         500|       656|\n",
      "+-------+-----+------+-------+------------+----------+\n",
      "only showing top 5 rows\n",
      "\n"
     ]
    }
   ],
   "source": [
    "df_players_samples_eda = samples_eda.select('hero_id','kills','deaths','assists','gold_per_min','xp_per_min')\n",
    "df_players_samples_eda.show(5)"
   ]
  },
  {
   "cell_type": "code",
   "execution_count": 12,
   "metadata": {},
   "outputs": [],
   "source": [
    "## Querying average stats by playable characters\n",
    "\n",
    "df_players_samples_eda.createOrReplaceTempView(\"stats\")\n",
    "query = \"\"\"\n",
    "SELECT \n",
    "    hero_id,\n",
    "    CAST((SUM(kills))/SUM(deaths) as decimal(5,2)) as kd_ratio,\n",
    "    CAST((SUM(assists))/SUM(deaths) as decimal(5,2)) as ad_ratio,\n",
    "    CAST(AVG(kills) as decimal(5,2)) as average_kills,\n",
    "    CAST(AVG(assists) as decimal(5,2)) as average_assists,\n",
    "    CAST(AVG(kills) + AVG(assists) as decimal(5,2)) as average_ka,\n",
    "    CAST(AVG(deaths) as decimal(5,2)) as average_deaths,\n",
    "    CAST(AVG(gold_per_min) as decimal(20,2)) as average_gold,\n",
    "    CAST(AVG(xp_per_min) as decimal(5,2)) as average_xp,\n",
    "    COUNT(hero_id) as freq\n",
    "FROM stats s\n",
    "GROUP BY hero_id\n",
    "ORDER BY \n",
    "    freq DESC, \n",
    "    kd_ratio DESC\n",
    "\"\"\"\n",
    "#spark.sql(query).show(5)\n",
    "eda_query = spark.sql(query)"
   ]
  },
  {
   "cell_type": "code",
   "execution_count": 13,
   "metadata": {},
   "outputs": [
    {
     "name": "stdout",
     "output_type": "stream",
     "text": [
      "+-------+--------+--------+-------------+---------------+----------+--------------+------------+----------+-----+\n",
      "|hero_id|kd_ratio|ad_ratio|average_kills|average_assists|average_ka|average_deaths|average_gold|average_xp| freq|\n",
      "+-------+--------+--------+-------------+---------------+----------+--------------+------------+----------+-----+\n",
      "|     14|    1.27|    1.11|         9.32|           8.19|     17.52|          7.35|      898.39|    558.89|35634|\n",
      "|     35|    1.06|    1.13|         7.16|           7.64|     14.80|          6.74|      952.12|    558.24|30918|\n",
      "|      6|    0.86|    0.86|         6.21|           6.18|     12.39|          7.22|      943.95|    557.62|28480|\n",
      "|     32|    1.57|    1.12|         9.67|           6.89|     16.56|          6.15|      712.82|    550.17|24722|\n",
      "|     44|    0.91|    0.96|         6.48|           6.79|     13.28|          7.09|     1094.69|    595.91|24605|\n",
      "+-------+--------+--------+-------------+---------------+----------+--------------+------------+----------+-----+\n",
      "only showing top 5 rows\n",
      "\n"
     ]
    }
   ],
   "source": [
    "eda_query.show(5)"
   ]
  },
  {
   "cell_type": "code",
   "execution_count": 14,
   "metadata": {},
   "outputs": [
    {
     "name": "stdout",
     "output_type": "stream",
     "text": [
      "+-------+--------+--------+-------------+---------------+----------+--------------+------------+----------+----+\n",
      "|hero_id|kd_ratio|ad_ratio|average_kills|average_assists|average_ka|average_deaths|average_gold|average_xp|freq|\n",
      "+-------+--------+--------+-------------+---------------+----------+--------------+------------+----------+----+\n",
      "|      0|       1|       1|            0|              0|         0|             0|           0|         0|   0|\n",
      "+-------+--------+--------+-------------+---------------+----------+--------------+------------+----------+----+\n",
      "\n"
     ]
    }
   ],
   "source": [
    "eda_query.select([func.count(func.when(func.col(c).isNull(), c)).alias(c) for c in eda_query.columns]).show()"
   ]
  },
  {
   "cell_type": "code",
   "execution_count": 15,
   "metadata": {},
   "outputs": [],
   "source": [
    "## adding a percentage column for characters\n",
    "\n",
    "eda_query = eda_query.withColumn('percent',func.col('freq')/func.sum('freq').over(Window.partitionBy()))\n",
    "#eda_query.show()"
   ]
  },
  {
   "cell_type": "code",
   "execution_count": 16,
   "metadata": {},
   "outputs": [
    {
     "name": "stdout",
     "output_type": "stream",
     "text": [
      "+-------+--------+--------+-------------+---------------+----------+--------------+------------+----------+-----+--------------------+\n",
      "|hero_id|kd_ratio|ad_ratio|average_kills|average_assists|average_ka|average_deaths|average_gold|average_xp| freq|             percent|\n",
      "+-------+--------+--------+-------------+---------------+----------+--------------+------------+----------+-----+--------------------+\n",
      "|     14|    1.27|    1.11|         9.32|           8.19|     17.52|          7.35|      898.39|    558.89|35634|0.031289815838438685|\n",
      "|     35|    1.06|    1.13|         7.16|           7.64|     14.80|          6.74|      952.12|    558.24|30918| 0.02714874911861838|\n",
      "|      6|    0.86|    0.86|         6.21|           6.18|     12.39|          7.22|      943.95|    557.62|28480|0.025007968655742657|\n",
      "|     32|    1.57|    1.12|         9.67|           6.89|     16.56|          6.15|      712.82|    550.17|24722| 0.02170811099393504|\n",
      "|     44|    0.91|    0.96|         6.48|           6.79|     13.28|          7.09|     1094.69|    595.91|24605|0.021605374605847896|\n",
      "+-------+--------+--------+-------------+---------------+----------+--------------+------------+----------+-----+--------------------+\n",
      "only showing top 5 rows\n",
      "\n"
     ]
    }
   ],
   "source": [
    "eda_query.show(5)"
   ]
  },
  {
   "cell_type": "code",
   "execution_count": 17,
   "metadata": {},
   "outputs": [],
   "source": [
    "## exporting the mean values to pandas \n",
    "pd_eda = eda_query.toPandas()"
   ]
  },
  {
   "cell_type": "code",
   "execution_count": 18,
   "metadata": {},
   "outputs": [],
   "source": [
    "pd_eda['percent'] = pd_eda['percent'].apply(lambda x: f'{float(x):.3f}')"
   ]
  },
  {
   "cell_type": "code",
   "execution_count": 19,
   "metadata": {},
   "outputs": [
    {
     "data": {
      "text/html": [
       "<div>\n",
       "<style scoped>\n",
       "    .dataframe tbody tr th:only-of-type {\n",
       "        vertical-align: middle;\n",
       "    }\n",
       "\n",
       "    .dataframe tbody tr th {\n",
       "        vertical-align: top;\n",
       "    }\n",
       "\n",
       "    .dataframe thead th {\n",
       "        text-align: right;\n",
       "    }\n",
       "</style>\n",
       "<table border=\"1\" class=\"dataframe\">\n",
       "  <thead>\n",
       "    <tr style=\"text-align: right;\">\n",
       "      <th></th>\n",
       "      <th>hero_id</th>\n",
       "      <th>kd_ratio</th>\n",
       "      <th>ad_ratio</th>\n",
       "      <th>average_kills</th>\n",
       "      <th>average_assists</th>\n",
       "      <th>average_ka</th>\n",
       "      <th>average_deaths</th>\n",
       "      <th>average_gold</th>\n",
       "      <th>average_xp</th>\n",
       "      <th>freq</th>\n",
       "      <th>percent</th>\n",
       "    </tr>\n",
       "  </thead>\n",
       "  <tbody>\n",
       "    <tr>\n",
       "      <th>0</th>\n",
       "      <td>14</td>\n",
       "      <td>1.27</td>\n",
       "      <td>1.11</td>\n",
       "      <td>9.32</td>\n",
       "      <td>8.19</td>\n",
       "      <td>17.52</td>\n",
       "      <td>7.35</td>\n",
       "      <td>898.39</td>\n",
       "      <td>558.89</td>\n",
       "      <td>35634</td>\n",
       "      <td>0.031</td>\n",
       "    </tr>\n",
       "    <tr>\n",
       "      <th>1</th>\n",
       "      <td>35</td>\n",
       "      <td>1.06</td>\n",
       "      <td>1.13</td>\n",
       "      <td>7.16</td>\n",
       "      <td>7.64</td>\n",
       "      <td>14.80</td>\n",
       "      <td>6.74</td>\n",
       "      <td>952.12</td>\n",
       "      <td>558.24</td>\n",
       "      <td>30918</td>\n",
       "      <td>0.027</td>\n",
       "    </tr>\n",
       "    <tr>\n",
       "      <th>2</th>\n",
       "      <td>6</td>\n",
       "      <td>0.86</td>\n",
       "      <td>0.86</td>\n",
       "      <td>6.21</td>\n",
       "      <td>6.18</td>\n",
       "      <td>12.39</td>\n",
       "      <td>7.22</td>\n",
       "      <td>943.95</td>\n",
       "      <td>557.62</td>\n",
       "      <td>28480</td>\n",
       "      <td>0.025</td>\n",
       "    </tr>\n",
       "    <tr>\n",
       "      <th>3</th>\n",
       "      <td>32</td>\n",
       "      <td>1.57</td>\n",
       "      <td>1.12</td>\n",
       "      <td>9.67</td>\n",
       "      <td>6.89</td>\n",
       "      <td>16.56</td>\n",
       "      <td>6.15</td>\n",
       "      <td>712.82</td>\n",
       "      <td>550.17</td>\n",
       "      <td>24722</td>\n",
       "      <td>0.022</td>\n",
       "    </tr>\n",
       "    <tr>\n",
       "      <th>4</th>\n",
       "      <td>44</td>\n",
       "      <td>0.91</td>\n",
       "      <td>0.96</td>\n",
       "      <td>6.48</td>\n",
       "      <td>6.79</td>\n",
       "      <td>13.28</td>\n",
       "      <td>7.09</td>\n",
       "      <td>1094.69</td>\n",
       "      <td>595.91</td>\n",
       "      <td>24605</td>\n",
       "      <td>0.022</td>\n",
       "    </tr>\n",
       "  </tbody>\n",
       "</table>\n",
       "</div>"
      ],
      "text/plain": [
       "   hero_id kd_ratio ad_ratio average_kills average_assists average_ka  \\\n",
       "0       14     1.27     1.11          9.32            8.19      17.52   \n",
       "1       35     1.06     1.13          7.16            7.64      14.80   \n",
       "2        6     0.86     0.86          6.21            6.18      12.39   \n",
       "3       32     1.57     1.12          9.67            6.89      16.56   \n",
       "4       44     0.91     0.96          6.48            6.79      13.28   \n",
       "\n",
       "  average_deaths average_gold average_xp   freq percent  \n",
       "0           7.35       898.39     558.89  35634   0.031  \n",
       "1           6.74       952.12     558.24  30918   0.027  \n",
       "2           7.22       943.95     557.62  28480   0.025  \n",
       "3           6.15       712.82     550.17  24722   0.022  \n",
       "4           7.09      1094.69     595.91  24605   0.022  "
      ]
     },
     "execution_count": 19,
     "metadata": {},
     "output_type": "execute_result"
    }
   ],
   "source": [
    "pd_eda.head()"
   ]
  },
  {
   "cell_type": "code",
   "execution_count": 20,
   "metadata": {},
   "outputs": [
    {
     "data": {
      "text/plain": [
       "hero_id            0\n",
       "kd_ratio           1\n",
       "ad_ratio           1\n",
       "average_kills      0\n",
       "average_assists    0\n",
       "average_ka         0\n",
       "average_deaths     0\n",
       "average_gold       0\n",
       "average_xp         0\n",
       "freq               0\n",
       "percent            0\n",
       "dtype: int64"
      ]
     },
     "execution_count": 20,
     "metadata": {},
     "output_type": "execute_result"
    }
   ],
   "source": [
    "pd_eda.isna().sum()"
   ]
  },
  {
   "cell_type": "code",
   "execution_count": 21,
   "metadata": {},
   "outputs": [
    {
     "data": {
      "text/html": [
       "<div>\n",
       "<style scoped>\n",
       "    .dataframe tbody tr th:only-of-type {\n",
       "        vertical-align: middle;\n",
       "    }\n",
       "\n",
       "    .dataframe tbody tr th {\n",
       "        vertical-align: top;\n",
       "    }\n",
       "\n",
       "    .dataframe thead th {\n",
       "        text-align: right;\n",
       "    }\n",
       "</style>\n",
       "<table border=\"1\" class=\"dataframe\">\n",
       "  <thead>\n",
       "    <tr style=\"text-align: right;\">\n",
       "      <th></th>\n",
       "      <th>hero_id</th>\n",
       "      <th>kd_ratio</th>\n",
       "      <th>ad_ratio</th>\n",
       "      <th>average_kills</th>\n",
       "      <th>average_assists</th>\n",
       "      <th>average_ka</th>\n",
       "      <th>average_deaths</th>\n",
       "      <th>average_gold</th>\n",
       "      <th>average_xp</th>\n",
       "      <th>freq</th>\n",
       "      <th>percent</th>\n",
       "    </tr>\n",
       "  </thead>\n",
       "  <tbody>\n",
       "    <tr>\n",
       "      <th>60</th>\n",
       "      <td>0</td>\n",
       "      <td>None</td>\n",
       "      <td>None</td>\n",
       "      <td>0.00</td>\n",
       "      <td>0.00</td>\n",
       "      <td>0.00</td>\n",
       "      <td>0.00</td>\n",
       "      <td>331.51</td>\n",
       "      <td>0.08</td>\n",
       "      <td>8208</td>\n",
       "      <td>0.007</td>\n",
       "    </tr>\n",
       "  </tbody>\n",
       "</table>\n",
       "</div>"
      ],
      "text/plain": [
       "    hero_id kd_ratio ad_ratio average_kills average_assists average_ka  \\\n",
       "60        0     None     None          0.00            0.00       0.00   \n",
       "\n",
       "   average_deaths average_gold average_xp  freq percent  \n",
       "60           0.00       331.51       0.08  8208   0.007  "
      ]
     },
     "execution_count": 21,
     "metadata": {},
     "output_type": "execute_result"
    }
   ],
   "source": [
    "## Looking for a row with null values\n",
    "pd_eda[pd_eda.isnull().any(axis=1)]"
   ]
  },
  {
   "cell_type": "code",
   "execution_count": 22,
   "metadata": {},
   "outputs": [
    {
     "data": {
      "text/html": [
       "<div>\n",
       "<style scoped>\n",
       "    .dataframe tbody tr th:only-of-type {\n",
       "        vertical-align: middle;\n",
       "    }\n",
       "\n",
       "    .dataframe tbody tr th {\n",
       "        vertical-align: top;\n",
       "    }\n",
       "\n",
       "    .dataframe thead th {\n",
       "        text-align: right;\n",
       "    }\n",
       "</style>\n",
       "<table border=\"1\" class=\"dataframe\">\n",
       "  <thead>\n",
       "    <tr style=\"text-align: right;\">\n",
       "      <th></th>\n",
       "      <th>id</th>\n",
       "      <th>localized_name</th>\n",
       "      <th>attack_type</th>\n",
       "      <th>roles</th>\n",
       "    </tr>\n",
       "  </thead>\n",
       "  <tbody>\n",
       "    <tr>\n",
       "      <th>0</th>\n",
       "      <td>1</td>\n",
       "      <td>Anti-Mage</td>\n",
       "      <td>Melee</td>\n",
       "      <td>[Carry, Escape, Nuker]</td>\n",
       "    </tr>\n",
       "  </tbody>\n",
       "</table>\n",
       "</div>"
      ],
      "text/plain": [
       "   id localized_name attack_type                   roles\n",
       "0   1      Anti-Mage       Melee  [Carry, Escape, Nuker]"
      ]
     },
     "execution_count": 22,
     "metadata": {},
     "output_type": "execute_result"
    }
   ],
   "source": [
    "hero_df.head(1)"
   ]
  },
  {
   "cell_type": "code",
   "execution_count": 23,
   "metadata": {},
   "outputs": [],
   "source": [
    "## Removing the hero_id: 0, since this id is not available from the dataframe I pulled from the API\n",
    "\n",
    "pd_eda.drop(index=60,inplace = True)"
   ]
  },
  {
   "cell_type": "code",
   "execution_count": 24,
   "metadata": {},
   "outputs": [],
   "source": [
    "## Resetting the index\n",
    "\n",
    "pd_eda.reset_index(drop = True, inplace = True)"
   ]
  },
  {
   "cell_type": "code",
   "execution_count": 25,
   "metadata": {},
   "outputs": [],
   "source": [
    "## Separating the roles\n",
    "\n",
    "df_chars = pd.merge(pd_eda,\n",
    "                        hero_df,\n",
    "                        left_on = 'hero_id',\n",
    "                        right_on = 'id',\n",
    "                        how = 'inner')\\\n",
    "                            .drop('id',axis=1)"
   ]
  },
  {
   "cell_type": "code",
   "execution_count": 26,
   "metadata": {},
   "outputs": [
    {
     "data": {
      "text/plain": [
       "hero_id             int32\n",
       "kd_ratio           object\n",
       "ad_ratio           object\n",
       "average_kills      object\n",
       "average_assists    object\n",
       "average_ka         object\n",
       "average_deaths     object\n",
       "average_gold       object\n",
       "average_xp         object\n",
       "freq                int64\n",
       "percent            object\n",
       "localized_name     object\n",
       "attack_type        object\n",
       "roles              object\n",
       "dtype: object"
      ]
     },
     "execution_count": 26,
     "metadata": {},
     "output_type": "execute_result"
    }
   ],
   "source": [
    "## Taking a look at the data type for future computation\n",
    "df_chars.dtypes"
   ]
  },
  {
   "cell_type": "code",
   "execution_count": 27,
   "metadata": {},
   "outputs": [
    {
     "data": {
      "text/plain": [
       "Index(['hero_id', 'kd_ratio', 'ad_ratio', 'average_kills', 'average_assists',\n",
       "       'average_ka', 'average_deaths', 'average_gold', 'average_xp', 'freq',\n",
       "       'percent', 'localized_name', 'attack_type', 'roles'],\n",
       "      dtype='object')"
      ]
     },
     "execution_count": 27,
     "metadata": {},
     "output_type": "execute_result"
    }
   ],
   "source": [
    "df_chars.columns"
   ]
  },
  {
   "cell_type": "code",
   "execution_count": 28,
   "metadata": {},
   "outputs": [],
   "source": [
    "## converting a number of object columns into numeric columns\n",
    "cols = ['kd_ratio', 'ad_ratio', 'average_kills', 'average_deaths','average_assists', \n",
    "        'average_ka','average_gold', 'average_xp', 'freq', 'percent']\n",
    "\n",
    "df_chars[cols] = df_chars[cols].apply(pd.to_numeric, errors = 'coerce')\n",
    "\n",
    "\n",
    "## Rearranging columns for better legibility\n",
    "cols_re = ['hero_id','localized_name','average_kills','average_assists','average_ka',\n",
    "           'average_deaths','kd_ratio','ad_ratio','average_gold','average_xp','freq','percent']\n",
    "\n",
    "df_chars = df_chars[cols_re]\n",
    "\n",
    "df_chars['popularity'] = df_chars['freq'].rank(ascending = False)"
   ]
  },
  {
   "cell_type": "code",
   "execution_count": 29,
   "metadata": {},
   "outputs": [
    {
     "data": {
      "text/html": [
       "<div>\n",
       "<style scoped>\n",
       "    .dataframe tbody tr th:only-of-type {\n",
       "        vertical-align: middle;\n",
       "    }\n",
       "\n",
       "    .dataframe tbody tr th {\n",
       "        vertical-align: top;\n",
       "    }\n",
       "\n",
       "    .dataframe thead th {\n",
       "        text-align: right;\n",
       "    }\n",
       "</style>\n",
       "<table border=\"1\" class=\"dataframe\">\n",
       "  <thead>\n",
       "    <tr style=\"text-align: right;\">\n",
       "      <th></th>\n",
       "      <th>hero_id</th>\n",
       "      <th>localized_name</th>\n",
       "      <th>average_kills</th>\n",
       "      <th>average_assists</th>\n",
       "      <th>average_ka</th>\n",
       "      <th>average_deaths</th>\n",
       "      <th>kd_ratio</th>\n",
       "      <th>ad_ratio</th>\n",
       "      <th>average_gold</th>\n",
       "      <th>average_xp</th>\n",
       "      <th>freq</th>\n",
       "      <th>percent</th>\n",
       "      <th>popularity</th>\n",
       "    </tr>\n",
       "  </thead>\n",
       "  <tbody>\n",
       "    <tr>\n",
       "      <th>0</th>\n",
       "      <td>14</td>\n",
       "      <td>Pudge</td>\n",
       "      <td>9.32</td>\n",
       "      <td>8.19</td>\n",
       "      <td>17.52</td>\n",
       "      <td>7.35</td>\n",
       "      <td>1.27</td>\n",
       "      <td>1.11</td>\n",
       "      <td>898.39</td>\n",
       "      <td>558.89</td>\n",
       "      <td>35634</td>\n",
       "      <td>0.031</td>\n",
       "      <td>1.0</td>\n",
       "    </tr>\n",
       "    <tr>\n",
       "      <th>1</th>\n",
       "      <td>35</td>\n",
       "      <td>Sniper</td>\n",
       "      <td>7.16</td>\n",
       "      <td>7.64</td>\n",
       "      <td>14.80</td>\n",
       "      <td>6.74</td>\n",
       "      <td>1.06</td>\n",
       "      <td>1.13</td>\n",
       "      <td>952.12</td>\n",
       "      <td>558.24</td>\n",
       "      <td>30918</td>\n",
       "      <td>0.027</td>\n",
       "      <td>2.0</td>\n",
       "    </tr>\n",
       "    <tr>\n",
       "      <th>2</th>\n",
       "      <td>6</td>\n",
       "      <td>Drow Ranger</td>\n",
       "      <td>6.21</td>\n",
       "      <td>6.18</td>\n",
       "      <td>12.39</td>\n",
       "      <td>7.22</td>\n",
       "      <td>0.86</td>\n",
       "      <td>0.86</td>\n",
       "      <td>943.95</td>\n",
       "      <td>557.62</td>\n",
       "      <td>28480</td>\n",
       "      <td>0.025</td>\n",
       "      <td>3.0</td>\n",
       "    </tr>\n",
       "    <tr>\n",
       "      <th>3</th>\n",
       "      <td>32</td>\n",
       "      <td>Riki</td>\n",
       "      <td>9.67</td>\n",
       "      <td>6.89</td>\n",
       "      <td>16.56</td>\n",
       "      <td>6.15</td>\n",
       "      <td>1.57</td>\n",
       "      <td>1.12</td>\n",
       "      <td>712.82</td>\n",
       "      <td>550.17</td>\n",
       "      <td>24722</td>\n",
       "      <td>0.022</td>\n",
       "      <td>4.0</td>\n",
       "    </tr>\n",
       "    <tr>\n",
       "      <th>4</th>\n",
       "      <td>44</td>\n",
       "      <td>Phantom Assassin</td>\n",
       "      <td>6.48</td>\n",
       "      <td>6.79</td>\n",
       "      <td>13.28</td>\n",
       "      <td>7.09</td>\n",
       "      <td>0.91</td>\n",
       "      <td>0.96</td>\n",
       "      <td>1094.69</td>\n",
       "      <td>595.91</td>\n",
       "      <td>24605</td>\n",
       "      <td>0.022</td>\n",
       "      <td>5.0</td>\n",
       "    </tr>\n",
       "  </tbody>\n",
       "</table>\n",
       "</div>"
      ],
      "text/plain": [
       "   hero_id    localized_name  average_kills  average_assists  average_ka  \\\n",
       "0       14             Pudge           9.32             8.19       17.52   \n",
       "1       35            Sniper           7.16             7.64       14.80   \n",
       "2        6       Drow Ranger           6.21             6.18       12.39   \n",
       "3       32              Riki           9.67             6.89       16.56   \n",
       "4       44  Phantom Assassin           6.48             6.79       13.28   \n",
       "\n",
       "   average_deaths  kd_ratio  ad_ratio  average_gold  average_xp   freq  \\\n",
       "0            7.35      1.27      1.11        898.39      558.89  35634   \n",
       "1            6.74      1.06      1.13        952.12      558.24  30918   \n",
       "2            7.22      0.86      0.86        943.95      557.62  28480   \n",
       "3            6.15      1.57      1.12        712.82      550.17  24722   \n",
       "4            7.09      0.91      0.96       1094.69      595.91  24605   \n",
       "\n",
       "   percent  popularity  \n",
       "0    0.031         1.0  \n",
       "1    0.027         2.0  \n",
       "2    0.025         3.0  \n",
       "3    0.022         4.0  \n",
       "4    0.022         5.0  "
      ]
     },
     "execution_count": 29,
     "metadata": {},
     "output_type": "execute_result"
    }
   ],
   "source": [
    "df_chars.head(5)"
   ]
  },
  {
   "cell_type": "code",
   "execution_count": 30,
   "metadata": {},
   "outputs": [
    {
     "data": {
      "image/png": "[encoded data removed]",
      "text/plain": [
       "<Figure size 432x288 with 1 Axes>"
      ]
     },
     "metadata": {},
     "output_type": "display_data"
    }
   ],
   "source": [
    "fig,ax = plt.subplots()\n",
    "\n",
    "labels = ['5 Most Popular Characters', 'Remaining 106 Characters']\n",
    "explode = (0.1,0)\n",
    "sizes = [0.38, 0.62]\n",
    "\n",
    "ax.pie([df_chars.loc[:5]['percent'].sum(), df_chars.loc[5:]['percent'].sum()],\n",
    "      explode = explode,\n",
    "      labels = labels,\n",
    "      startangle = 0,\n",
    "      autopct = '%1.1f%%')\n",
    "\n",
    "ax.axis('equal')\n",
    "ax.set_title('Character Popularity')\n",
    "plt.show()"
   ]
  },
  {
   "cell_type": "code",
   "execution_count": 31,
   "metadata": {},
   "outputs": [
    {
     "data": {
      "image/png": "[encoded data removed]",
      "text/plain": [
       "<Figure size 900x900 with 30 Axes>"
      ]
     },
     "metadata": {},
     "output_type": "display_data"
    }
   ],
   "source": [
    "sns.pairplot(df_chars, vars = ['average_kills','average_assists','average_gold','average_xp','freq'])\n",
    "plt.show()"
   ]
  },
  {
   "cell_type": "code",
   "execution_count": 32,
   "metadata": {},
   "outputs": [
    {
     "data": {
      "text/html": [
       "<div>\n",
       "<style scoped>\n",
       "    .dataframe tbody tr th:only-of-type {\n",
       "        vertical-align: middle;\n",
       "    }\n",
       "\n",
       "    .dataframe tbody tr th {\n",
       "        vertical-align: top;\n",
       "    }\n",
       "\n",
       "    .dataframe thead th {\n",
       "        text-align: right;\n",
       "    }\n",
       "</style>\n",
       "<table border=\"1\" class=\"dataframe\">\n",
       "  <thead>\n",
       "    <tr style=\"text-align: right;\">\n",
       "      <th></th>\n",
       "      <th>hero_id</th>\n",
       "      <th>localized_name</th>\n",
       "      <th>average_kills</th>\n",
       "      <th>average_assists</th>\n",
       "      <th>average_ka</th>\n",
       "      <th>average_deaths</th>\n",
       "      <th>kd_ratio</th>\n",
       "      <th>ad_ratio</th>\n",
       "      <th>average_gold</th>\n",
       "      <th>average_xp</th>\n",
       "      <th>freq</th>\n",
       "      <th>percent</th>\n",
       "      <th>popularity</th>\n",
       "    </tr>\n",
       "  </thead>\n",
       "  <tbody>\n",
       "    <tr>\n",
       "      <th>3</th>\n",
       "      <td>32</td>\n",
       "      <td>Riki</td>\n",
       "      <td>9.67</td>\n",
       "      <td>6.89</td>\n",
       "      <td>16.56</td>\n",
       "      <td>6.15</td>\n",
       "      <td>1.57</td>\n",
       "      <td>1.12</td>\n",
       "      <td>712.82</td>\n",
       "      <td>550.17</td>\n",
       "      <td>24722</td>\n",
       "      <td>0.022</td>\n",
       "      <td>4.0</td>\n",
       "    </tr>\n",
       "    <tr>\n",
       "      <th>22</th>\n",
       "      <td>47</td>\n",
       "      <td>Viper</td>\n",
       "      <td>9.50</td>\n",
       "      <td>9.50</td>\n",
       "      <td>19.00</td>\n",
       "      <td>6.52</td>\n",
       "      <td>1.46</td>\n",
       "      <td>1.46</td>\n",
       "      <td>617.34</td>\n",
       "      <td>510.48</td>\n",
       "      <td>14701</td>\n",
       "      <td>0.013</td>\n",
       "      <td>23.0</td>\n",
       "    </tr>\n",
       "    <tr>\n",
       "      <th>0</th>\n",
       "      <td>14</td>\n",
       "      <td>Pudge</td>\n",
       "      <td>9.32</td>\n",
       "      <td>8.19</td>\n",
       "      <td>17.52</td>\n",
       "      <td>7.35</td>\n",
       "      <td>1.27</td>\n",
       "      <td>1.11</td>\n",
       "      <td>898.39</td>\n",
       "      <td>558.89</td>\n",
       "      <td>35634</td>\n",
       "      <td>0.031</td>\n",
       "      <td>1.0</td>\n",
       "    </tr>\n",
       "    <tr>\n",
       "      <th>5</th>\n",
       "      <td>4</td>\n",
       "      <td>Bloodseeker</td>\n",
       "      <td>8.67</td>\n",
       "      <td>7.59</td>\n",
       "      <td>16.26</td>\n",
       "      <td>7.28</td>\n",
       "      <td>1.19</td>\n",
       "      <td>1.04</td>\n",
       "      <td>831.63</td>\n",
       "      <td>580.13</td>\n",
       "      <td>22734</td>\n",
       "      <td>0.020</td>\n",
       "      <td>6.0</td>\n",
       "    </tr>\n",
       "    <tr>\n",
       "      <th>104</th>\n",
       "      <td>104</td>\n",
       "      <td>Legion Commander</td>\n",
       "      <td>8.60</td>\n",
       "      <td>10.01</td>\n",
       "      <td>18.61</td>\n",
       "      <td>8.17</td>\n",
       "      <td>1.05</td>\n",
       "      <td>1.23</td>\n",
       "      <td>455.17</td>\n",
       "      <td>496.70</td>\n",
       "      <td>560</td>\n",
       "      <td>0.000</td>\n",
       "      <td>105.0</td>\n",
       "    </tr>\n",
       "  </tbody>\n",
       "</table>\n",
       "</div>"
      ],
      "text/plain": [
       "     hero_id    localized_name  average_kills  average_assists  average_ka  \\\n",
       "3         32              Riki           9.67             6.89       16.56   \n",
       "22        47             Viper           9.50             9.50       19.00   \n",
       "0         14             Pudge           9.32             8.19       17.52   \n",
       "5          4       Bloodseeker           8.67             7.59       16.26   \n",
       "104      104  Legion Commander           8.60            10.01       18.61   \n",
       "\n",
       "     average_deaths  kd_ratio  ad_ratio  average_gold  average_xp   freq  \\\n",
       "3              6.15      1.57      1.12        712.82      550.17  24722   \n",
       "22             6.52      1.46      1.46        617.34      510.48  14701   \n",
       "0              7.35      1.27      1.11        898.39      558.89  35634   \n",
       "5              7.28      1.19      1.04        831.63      580.13  22734   \n",
       "104            8.17      1.05      1.23        455.17      496.70    560   \n",
       "\n",
       "     percent  popularity  \n",
       "3      0.022         4.0  \n",
       "22     0.013        23.0  \n",
       "0      0.031         1.0  \n",
       "5      0.020         6.0  \n",
       "104    0.000       105.0  "
      ]
     },
     "execution_count": 32,
     "metadata": {},
     "output_type": "execute_result"
    }
   ],
   "source": [
    "df_chars.sort_values(by='average_kills',ascending = False).head(5)"
   ]
  },
  {
   "cell_type": "code",
   "execution_count": 33,
   "metadata": {},
   "outputs": [
    {
     "data": {
      "text/html": [
       "<div>\n",
       "<style scoped>\n",
       "    .dataframe tbody tr th:only-of-type {\n",
       "        vertical-align: middle;\n",
       "    }\n",
       "\n",
       "    .dataframe tbody tr th {\n",
       "        vertical-align: top;\n",
       "    }\n",
       "\n",
       "    .dataframe thead th {\n",
       "        text-align: right;\n",
       "    }\n",
       "</style>\n",
       "<table border=\"1\" class=\"dataframe\">\n",
       "  <thead>\n",
       "    <tr style=\"text-align: right;\">\n",
       "      <th></th>\n",
       "      <th>hero_id</th>\n",
       "      <th>localized_name</th>\n",
       "      <th>average_kills</th>\n",
       "      <th>average_assists</th>\n",
       "      <th>average_ka</th>\n",
       "      <th>average_deaths</th>\n",
       "      <th>kd_ratio</th>\n",
       "      <th>ad_ratio</th>\n",
       "      <th>average_gold</th>\n",
       "      <th>average_xp</th>\n",
       "      <th>freq</th>\n",
       "      <th>percent</th>\n",
       "      <th>popularity</th>\n",
       "    </tr>\n",
       "  </thead>\n",
       "  <tbody>\n",
       "    <tr>\n",
       "      <th>40</th>\n",
       "      <td>12</td>\n",
       "      <td>Phantom Lancer</td>\n",
       "      <td>5.67</td>\n",
       "      <td>7.93</td>\n",
       "      <td>13.60</td>\n",
       "      <td>4.99</td>\n",
       "      <td>1.14</td>\n",
       "      <td>1.59</td>\n",
       "      <td>702.05</td>\n",
       "      <td>517.28</td>\n",
       "      <td>10991</td>\n",
       "      <td>0.010</td>\n",
       "      <td>41.0</td>\n",
       "    </tr>\n",
       "    <tr>\n",
       "      <th>19</th>\n",
       "      <td>42</td>\n",
       "      <td>Wraith King</td>\n",
       "      <td>4.84</td>\n",
       "      <td>7.40</td>\n",
       "      <td>12.24</td>\n",
       "      <td>5.08</td>\n",
       "      <td>0.95</td>\n",
       "      <td>1.46</td>\n",
       "      <td>1154.29</td>\n",
       "      <td>612.47</td>\n",
       "      <td>15360</td>\n",
       "      <td>0.013</td>\n",
       "      <td>20.0</td>\n",
       "    </tr>\n",
       "    <tr>\n",
       "      <th>84</th>\n",
       "      <td>94</td>\n",
       "      <td>Medusa</td>\n",
       "      <td>4.49</td>\n",
       "      <td>9.23</td>\n",
       "      <td>13.72</td>\n",
       "      <td>5.72</td>\n",
       "      <td>0.79</td>\n",
       "      <td>1.61</td>\n",
       "      <td>581.45</td>\n",
       "      <td>474.54</td>\n",
       "      <td>5615</td>\n",
       "      <td>0.005</td>\n",
       "      <td>85.0</td>\n",
       "    </tr>\n",
       "    <tr>\n",
       "      <th>82</th>\n",
       "      <td>80</td>\n",
       "      <td>Lone Druid</td>\n",
       "      <td>4.11</td>\n",
       "      <td>6.48</td>\n",
       "      <td>10.60</td>\n",
       "      <td>5.72</td>\n",
       "      <td>0.72</td>\n",
       "      <td>1.13</td>\n",
       "      <td>823.68</td>\n",
       "      <td>493.21</td>\n",
       "      <td>5710</td>\n",
       "      <td>0.005</td>\n",
       "      <td>83.0</td>\n",
       "    </tr>\n",
       "    <tr>\n",
       "      <th>23</th>\n",
       "      <td>63</td>\n",
       "      <td>Weaver</td>\n",
       "      <td>6.95</td>\n",
       "      <td>8.37</td>\n",
       "      <td>15.32</td>\n",
       "      <td>5.90</td>\n",
       "      <td>1.18</td>\n",
       "      <td>1.42</td>\n",
       "      <td>910.25</td>\n",
       "      <td>582.56</td>\n",
       "      <td>14622</td>\n",
       "      <td>0.013</td>\n",
       "      <td>24.0</td>\n",
       "    </tr>\n",
       "  </tbody>\n",
       "</table>\n",
       "</div>"
      ],
      "text/plain": [
       "    hero_id  localized_name  average_kills  average_assists  average_ka  \\\n",
       "40       12  Phantom Lancer           5.67             7.93       13.60   \n",
       "19       42     Wraith King           4.84             7.40       12.24   \n",
       "84       94          Medusa           4.49             9.23       13.72   \n",
       "82       80      Lone Druid           4.11             6.48       10.60   \n",
       "23       63          Weaver           6.95             8.37       15.32   \n",
       "\n",
       "    average_deaths  kd_ratio  ad_ratio  average_gold  average_xp   freq  \\\n",
       "40            4.99      1.14      1.59        702.05      517.28  10991   \n",
       "19            5.08      0.95      1.46       1154.29      612.47  15360   \n",
       "84            5.72      0.79      1.61        581.45      474.54   5615   \n",
       "82            5.72      0.72      1.13        823.68      493.21   5710   \n",
       "23            5.90      1.18      1.42        910.25      582.56  14622   \n",
       "\n",
       "    percent  popularity  \n",
       "40    0.010        41.0  \n",
       "19    0.013        20.0  \n",
       "84    0.005        85.0  \n",
       "82    0.005        83.0  \n",
       "23    0.013        24.0  "
      ]
     },
     "execution_count": 33,
     "metadata": {},
     "output_type": "execute_result"
    }
   ],
   "source": [
    "df_chars.sort_values(by='average_deaths').head(5)"
   ]
  },
  {
   "cell_type": "code",
   "execution_count": 34,
   "metadata": {},
   "outputs": [
    {
     "data": {
      "text/html": [
       "<div>\n",
       "<style scoped>\n",
       "    .dataframe tbody tr th:only-of-type {\n",
       "        vertical-align: middle;\n",
       "    }\n",
       "\n",
       "    .dataframe tbody tr th {\n",
       "        vertical-align: top;\n",
       "    }\n",
       "\n",
       "    .dataframe thead th {\n",
       "        text-align: right;\n",
       "    }\n",
       "</style>\n",
       "<table border=\"1\" class=\"dataframe\">\n",
       "  <thead>\n",
       "    <tr style=\"text-align: right;\">\n",
       "      <th></th>\n",
       "      <th>hero_id</th>\n",
       "      <th>localized_name</th>\n",
       "      <th>average_kills</th>\n",
       "      <th>average_assists</th>\n",
       "      <th>average_ka</th>\n",
       "      <th>average_deaths</th>\n",
       "      <th>kd_ratio</th>\n",
       "      <th>ad_ratio</th>\n",
       "      <th>average_gold</th>\n",
       "      <th>average_xp</th>\n",
       "      <th>freq</th>\n",
       "      <th>percent</th>\n",
       "      <th>popularity</th>\n",
       "    </tr>\n",
       "  </thead>\n",
       "  <tbody>\n",
       "    <tr>\n",
       "      <th>106</th>\n",
       "      <td>110</td>\n",
       "      <td>Phoenix</td>\n",
       "      <td>5.62</td>\n",
       "      <td>17.48</td>\n",
       "      <td>23.11</td>\n",
       "      <td>8.30</td>\n",
       "      <td>0.68</td>\n",
       "      <td>2.11</td>\n",
       "      <td>353.34</td>\n",
       "      <td>395.89</td>\n",
       "      <td>122</td>\n",
       "      <td>0.000</td>\n",
       "      <td>107.0</td>\n",
       "    </tr>\n",
       "    <tr>\n",
       "      <th>108</th>\n",
       "      <td>111</td>\n",
       "      <td>Oracle</td>\n",
       "      <td>7.10</td>\n",
       "      <td>15.56</td>\n",
       "      <td>22.65</td>\n",
       "      <td>8.04</td>\n",
       "      <td>0.88</td>\n",
       "      <td>1.93</td>\n",
       "      <td>312.06</td>\n",
       "      <td>338.65</td>\n",
       "      <td>72</td>\n",
       "      <td>0.000</td>\n",
       "      <td>109.0</td>\n",
       "    </tr>\n",
       "    <tr>\n",
       "      <th>107</th>\n",
       "      <td>112</td>\n",
       "      <td>Winter Wyvern</td>\n",
       "      <td>4.13</td>\n",
       "      <td>13.68</td>\n",
       "      <td>17.81</td>\n",
       "      <td>7.69</td>\n",
       "      <td>0.54</td>\n",
       "      <td>1.78</td>\n",
       "      <td>324.90</td>\n",
       "      <td>360.79</td>\n",
       "      <td>77</td>\n",
       "      <td>0.000</td>\n",
       "      <td>108.0</td>\n",
       "    </tr>\n",
       "    <tr>\n",
       "      <th>77</th>\n",
       "      <td>36</td>\n",
       "      <td>Necrophos</td>\n",
       "      <td>7.40</td>\n",
       "      <td>13.61</td>\n",
       "      <td>21.02</td>\n",
       "      <td>6.76</td>\n",
       "      <td>1.09</td>\n",
       "      <td>2.01</td>\n",
       "      <td>520.63</td>\n",
       "      <td>467.87</td>\n",
       "      <td>6734</td>\n",
       "      <td>0.006</td>\n",
       "      <td>78.0</td>\n",
       "    </tr>\n",
       "    <tr>\n",
       "      <th>76</th>\n",
       "      <td>29</td>\n",
       "      <td>Tidehunter</td>\n",
       "      <td>4.37</td>\n",
       "      <td>13.54</td>\n",
       "      <td>17.91</td>\n",
       "      <td>6.78</td>\n",
       "      <td>0.64</td>\n",
       "      <td>2.00</td>\n",
       "      <td>410.63</td>\n",
       "      <td>401.37</td>\n",
       "      <td>6790</td>\n",
       "      <td>0.006</td>\n",
       "      <td>77.0</td>\n",
       "    </tr>\n",
       "  </tbody>\n",
       "</table>\n",
       "</div>"
      ],
      "text/plain": [
       "     hero_id localized_name  average_kills  average_assists  average_ka  \\\n",
       "106      110        Phoenix           5.62            17.48       23.11   \n",
       "108      111         Oracle           7.10            15.56       22.65   \n",
       "107      112  Winter Wyvern           4.13            13.68       17.81   \n",
       "77        36      Necrophos           7.40            13.61       21.02   \n",
       "76        29     Tidehunter           4.37            13.54       17.91   \n",
       "\n",
       "     average_deaths  kd_ratio  ad_ratio  average_gold  average_xp  freq  \\\n",
       "106            8.30      0.68      2.11        353.34      395.89   122   \n",
       "108            8.04      0.88      1.93        312.06      338.65    72   \n",
       "107            7.69      0.54      1.78        324.90      360.79    77   \n",
       "77             6.76      1.09      2.01        520.63      467.87  6734   \n",
       "76             6.78      0.64      2.00        410.63      401.37  6790   \n",
       "\n",
       "     percent  popularity  \n",
       "106    0.000       107.0  \n",
       "108    0.000       109.0  \n",
       "107    0.000       108.0  \n",
       "77     0.006        78.0  \n",
       "76     0.006        77.0  "
      ]
     },
     "execution_count": 34,
     "metadata": {},
     "output_type": "execute_result"
    }
   ],
   "source": [
    "df_chars.sort_values(by = 'average_assists',ascending = False).head(5)"
   ]
  },
  {
   "cell_type": "code",
   "execution_count": 35,
   "metadata": {},
   "outputs": [
    {
     "data": {
      "text/html": [
       "<div>\n",
       "<style scoped>\n",
       "    .dataframe tbody tr th:only-of-type {\n",
       "        vertical-align: middle;\n",
       "    }\n",
       "\n",
       "    .dataframe tbody tr th {\n",
       "        vertical-align: top;\n",
       "    }\n",
       "\n",
       "    .dataframe thead th {\n",
       "        text-align: right;\n",
       "    }\n",
       "</style>\n",
       "<table border=\"1\" class=\"dataframe\">\n",
       "  <thead>\n",
       "    <tr style=\"text-align: right;\">\n",
       "      <th></th>\n",
       "      <th>hero_id</th>\n",
       "      <th>localized_name</th>\n",
       "      <th>average_kills</th>\n",
       "      <th>average_assists</th>\n",
       "      <th>average_ka</th>\n",
       "      <th>average_deaths</th>\n",
       "      <th>kd_ratio</th>\n",
       "      <th>ad_ratio</th>\n",
       "      <th>average_gold</th>\n",
       "      <th>average_xp</th>\n",
       "      <th>freq</th>\n",
       "      <th>percent</th>\n",
       "      <th>popularity</th>\n",
       "    </tr>\n",
       "  </thead>\n",
       "  <tbody>\n",
       "    <tr>\n",
       "      <th>16</th>\n",
       "      <td>95</td>\n",
       "      <td>Troll Warlord</td>\n",
       "      <td>3.96</td>\n",
       "      <td>5.74</td>\n",
       "      <td>9.70</td>\n",
       "      <td>7.23</td>\n",
       "      <td>0.55</td>\n",
       "      <td>0.79</td>\n",
       "      <td>1584.43</td>\n",
       "      <td>669.90</td>\n",
       "      <td>15922</td>\n",
       "      <td>0.014</td>\n",
       "      <td>17.0</td>\n",
       "    </tr>\n",
       "    <tr>\n",
       "      <th>8</th>\n",
       "      <td>27</td>\n",
       "      <td>Shadow Shaman</td>\n",
       "      <td>3.99</td>\n",
       "      <td>7.23</td>\n",
       "      <td>11.22</td>\n",
       "      <td>7.68</td>\n",
       "      <td>0.52</td>\n",
       "      <td>0.94</td>\n",
       "      <td>1564.45</td>\n",
       "      <td>578.45</td>\n",
       "      <td>19695</td>\n",
       "      <td>0.017</td>\n",
       "      <td>9.0</td>\n",
       "    </tr>\n",
       "    <tr>\n",
       "      <th>6</th>\n",
       "      <td>1</td>\n",
       "      <td>Anti-Mage</td>\n",
       "      <td>3.92</td>\n",
       "      <td>4.29</td>\n",
       "      <td>8.21</td>\n",
       "      <td>6.31</td>\n",
       "      <td>0.62</td>\n",
       "      <td>0.68</td>\n",
       "      <td>1438.95</td>\n",
       "      <td>600.10</td>\n",
       "      <td>22635</td>\n",
       "      <td>0.020</td>\n",
       "      <td>7.0</td>\n",
       "    </tr>\n",
       "    <tr>\n",
       "      <th>7</th>\n",
       "      <td>26</td>\n",
       "      <td>Lion</td>\n",
       "      <td>4.69</td>\n",
       "      <td>7.06</td>\n",
       "      <td>11.75</td>\n",
       "      <td>7.45</td>\n",
       "      <td>0.63</td>\n",
       "      <td>0.95</td>\n",
       "      <td>1308.33</td>\n",
       "      <td>576.96</td>\n",
       "      <td>22534</td>\n",
       "      <td>0.020</td>\n",
       "      <td>8.0</td>\n",
       "    </tr>\n",
       "    <tr>\n",
       "      <th>27</th>\n",
       "      <td>102</td>\n",
       "      <td>Abaddon</td>\n",
       "      <td>4.34</td>\n",
       "      <td>8.06</td>\n",
       "      <td>12.40</td>\n",
       "      <td>6.24</td>\n",
       "      <td>0.69</td>\n",
       "      <td>1.29</td>\n",
       "      <td>1292.48</td>\n",
       "      <td>603.77</td>\n",
       "      <td>13908</td>\n",
       "      <td>0.012</td>\n",
       "      <td>28.0</td>\n",
       "    </tr>\n",
       "  </tbody>\n",
       "</table>\n",
       "</div>"
      ],
      "text/plain": [
       "    hero_id localized_name  average_kills  average_assists  average_ka  \\\n",
       "16       95  Troll Warlord           3.96             5.74        9.70   \n",
       "8        27  Shadow Shaman           3.99             7.23       11.22   \n",
       "6         1      Anti-Mage           3.92             4.29        8.21   \n",
       "7        26           Lion           4.69             7.06       11.75   \n",
       "27      102        Abaddon           4.34             8.06       12.40   \n",
       "\n",
       "    average_deaths  kd_ratio  ad_ratio  average_gold  average_xp   freq  \\\n",
       "16            7.23      0.55      0.79       1584.43      669.90  15922   \n",
       "8             7.68      0.52      0.94       1564.45      578.45  19695   \n",
       "6             6.31      0.62      0.68       1438.95      600.10  22635   \n",
       "7             7.45      0.63      0.95       1308.33      576.96  22534   \n",
       "27            6.24      0.69      1.29       1292.48      603.77  13908   \n",
       "\n",
       "    percent  popularity  \n",
       "16    0.014        17.0  \n",
       "8     0.017         9.0  \n",
       "6     0.020         7.0  \n",
       "7     0.020         8.0  \n",
       "27    0.012        28.0  "
      ]
     },
     "execution_count": 35,
     "metadata": {},
     "output_type": "execute_result"
    }
   ],
   "source": [
    "df_chars.sort_values(by = 'average_gold',ascending = False).head(5)"
   ]
  },
  {
   "cell_type": "code",
   "execution_count": 36,
   "metadata": {},
   "outputs": [
    {
     "data": {
      "text/html": [
       "<div>\n",
       "<style scoped>\n",
       "    .dataframe tbody tr th:only-of-type {\n",
       "        vertical-align: middle;\n",
       "    }\n",
       "\n",
       "    .dataframe tbody tr th {\n",
       "        vertical-align: top;\n",
       "    }\n",
       "\n",
       "    .dataframe thead th {\n",
       "        text-align: right;\n",
       "    }\n",
       "</style>\n",
       "<table border=\"1\" class=\"dataframe\">\n",
       "  <thead>\n",
       "    <tr style=\"text-align: right;\">\n",
       "      <th></th>\n",
       "      <th>hero_id</th>\n",
       "      <th>localized_name</th>\n",
       "      <th>average_kills</th>\n",
       "      <th>average_assists</th>\n",
       "      <th>average_ka</th>\n",
       "      <th>average_deaths</th>\n",
       "      <th>kd_ratio</th>\n",
       "      <th>ad_ratio</th>\n",
       "      <th>average_gold</th>\n",
       "      <th>average_xp</th>\n",
       "      <th>freq</th>\n",
       "      <th>percent</th>\n",
       "      <th>popularity</th>\n",
       "    </tr>\n",
       "  </thead>\n",
       "  <tbody>\n",
       "    <tr>\n",
       "      <th>16</th>\n",
       "      <td>95</td>\n",
       "      <td>Troll Warlord</td>\n",
       "      <td>3.96</td>\n",
       "      <td>5.74</td>\n",
       "      <td>9.70</td>\n",
       "      <td>7.23</td>\n",
       "      <td>0.55</td>\n",
       "      <td>0.79</td>\n",
       "      <td>1584.43</td>\n",
       "      <td>669.90</td>\n",
       "      <td>15922</td>\n",
       "      <td>0.014</td>\n",
       "      <td>17.0</td>\n",
       "    </tr>\n",
       "    <tr>\n",
       "      <th>66</th>\n",
       "      <td>34</td>\n",
       "      <td>Tinker</td>\n",
       "      <td>5.45</td>\n",
       "      <td>7.17</td>\n",
       "      <td>12.62</td>\n",
       "      <td>7.39</td>\n",
       "      <td>0.74</td>\n",
       "      <td>0.97</td>\n",
       "      <td>1226.62</td>\n",
       "      <td>632.36</td>\n",
       "      <td>7634</td>\n",
       "      <td>0.007</td>\n",
       "      <td>67.0</td>\n",
       "    </tr>\n",
       "    <tr>\n",
       "      <th>19</th>\n",
       "      <td>42</td>\n",
       "      <td>Wraith King</td>\n",
       "      <td>4.84</td>\n",
       "      <td>7.40</td>\n",
       "      <td>12.24</td>\n",
       "      <td>5.08</td>\n",
       "      <td>0.95</td>\n",
       "      <td>1.46</td>\n",
       "      <td>1154.29</td>\n",
       "      <td>612.47</td>\n",
       "      <td>15360</td>\n",
       "      <td>0.013</td>\n",
       "      <td>20.0</td>\n",
       "    </tr>\n",
       "    <tr>\n",
       "      <th>27</th>\n",
       "      <td>102</td>\n",
       "      <td>Abaddon</td>\n",
       "      <td>4.34</td>\n",
       "      <td>8.06</td>\n",
       "      <td>12.40</td>\n",
       "      <td>6.24</td>\n",
       "      <td>0.69</td>\n",
       "      <td>1.29</td>\n",
       "      <td>1292.48</td>\n",
       "      <td>603.77</td>\n",
       "      <td>13908</td>\n",
       "      <td>0.012</td>\n",
       "      <td>28.0</td>\n",
       "    </tr>\n",
       "    <tr>\n",
       "      <th>12</th>\n",
       "      <td>70</td>\n",
       "      <td>Ursa</td>\n",
       "      <td>6.98</td>\n",
       "      <td>5.14</td>\n",
       "      <td>12.12</td>\n",
       "      <td>6.91</td>\n",
       "      <td>1.01</td>\n",
       "      <td>0.74</td>\n",
       "      <td>1074.54</td>\n",
       "      <td>603.26</td>\n",
       "      <td>17308</td>\n",
       "      <td>0.015</td>\n",
       "      <td>13.0</td>\n",
       "    </tr>\n",
       "  </tbody>\n",
       "</table>\n",
       "</div>"
      ],
      "text/plain": [
       "    hero_id localized_name  average_kills  average_assists  average_ka  \\\n",
       "16       95  Troll Warlord           3.96             5.74        9.70   \n",
       "66       34         Tinker           5.45             7.17       12.62   \n",
       "19       42    Wraith King           4.84             7.40       12.24   \n",
       "27      102        Abaddon           4.34             8.06       12.40   \n",
       "12       70           Ursa           6.98             5.14       12.12   \n",
       "\n",
       "    average_deaths  kd_ratio  ad_ratio  average_gold  average_xp   freq  \\\n",
       "16            7.23      0.55      0.79       1584.43      669.90  15922   \n",
       "66            7.39      0.74      0.97       1226.62      632.36   7634   \n",
       "19            5.08      0.95      1.46       1154.29      612.47  15360   \n",
       "27            6.24      0.69      1.29       1292.48      603.77  13908   \n",
       "12            6.91      1.01      0.74       1074.54      603.26  17308   \n",
       "\n",
       "    percent  popularity  \n",
       "16    0.014        17.0  \n",
       "66    0.007        67.0  \n",
       "19    0.013        20.0  \n",
       "27    0.012        28.0  \n",
       "12    0.015        13.0  "
      ]
     },
     "execution_count": 36,
     "metadata": {},
     "output_type": "execute_result"
    }
   ],
   "source": [
    "df_chars.sort_values(by = 'average_xp',ascending = False).head(5)"
   ]
  },
  {
   "cell_type": "code",
   "execution_count": 38,
   "metadata": {},
   "outputs": [],
   "source": [
    "## Using the sample data to plot distributions\n",
    "df_full = df_players_samples_eda.toPandas()"
   ]
  },
  {
   "cell_type": "code",
   "execution_count": 39,
   "metadata": {},
   "outputs": [],
   "source": [
    "top5_ids = df_chars.iloc[:5]['hero_id']\n"
   ]
  },
  {
   "cell_type": "code",
   "execution_count": 107,
   "metadata": {},
   "outputs": [],
   "source": [
    "df_top5 = df_full[df_full['hero_id'].isin(top5_ids)]\n",
    "df_rest = df_full[~df_full['hero_id'].isin(top5_ids)]"
   ]
  },
  {
   "cell_type": "code",
   "execution_count": 64,
   "metadata": {},
   "outputs": [
    {
     "data": {
      "text/html": [
       "<div>\n",
       "<style scoped>\n",
       "    .dataframe tbody tr th:only-of-type {\n",
       "        vertical-align: middle;\n",
       "    }\n",
       "\n",
       "    .dataframe tbody tr th {\n",
       "        vertical-align: top;\n",
       "    }\n",
       "\n",
       "    .dataframe thead th {\n",
       "        text-align: right;\n",
       "    }\n",
       "</style>\n",
       "<table border=\"1\" class=\"dataframe\">\n",
       "  <thead>\n",
       "    <tr style=\"text-align: right;\">\n",
       "      <th></th>\n",
       "      <th>hero_id</th>\n",
       "      <th>kills</th>\n",
       "      <th>deaths</th>\n",
       "      <th>assists</th>\n",
       "      <th>gold_per_min</th>\n",
       "      <th>xp_per_min</th>\n",
       "    </tr>\n",
       "  </thead>\n",
       "  <tbody>\n",
       "    <tr>\n",
       "      <th>count</th>\n",
       "      <td>144359.000000</td>\n",
       "      <td>144359.000000</td>\n",
       "      <td>144359.000000</td>\n",
       "      <td>144359.000000</td>\n",
       "      <td>144359.000000</td>\n",
       "      <td>144359.000000</td>\n",
       "    </tr>\n",
       "    <tr>\n",
       "      <th>mean</th>\n",
       "      <td>25.115234</td>\n",
       "      <td>7.820926</td>\n",
       "      <td>6.945476</td>\n",
       "      <td>7.214396</td>\n",
       "      <td>920.564717</td>\n",
       "      <td>563.317819</td>\n",
       "    </tr>\n",
       "    <tr>\n",
       "      <th>std</th>\n",
       "      <td>13.871377</td>\n",
       "      <td>9.381611</td>\n",
       "      <td>4.438477</td>\n",
       "      <td>6.592025</td>\n",
       "      <td>889.883984</td>\n",
       "      <td>286.585643</td>\n",
       "    </tr>\n",
       "    <tr>\n",
       "      <th>min</th>\n",
       "      <td>6.000000</td>\n",
       "      <td>0.000000</td>\n",
       "      <td>0.000000</td>\n",
       "      <td>0.000000</td>\n",
       "      <td>10.000000</td>\n",
       "      <td>0.000000</td>\n",
       "    </tr>\n",
       "    <tr>\n",
       "      <th>25%</th>\n",
       "      <td>14.000000</td>\n",
       "      <td>3.000000</td>\n",
       "      <td>4.000000</td>\n",
       "      <td>3.000000</td>\n",
       "      <td>316.000000</td>\n",
       "      <td>376.000000</td>\n",
       "    </tr>\n",
       "    <tr>\n",
       "      <th>50%</th>\n",
       "      <td>32.000000</td>\n",
       "      <td>6.000000</td>\n",
       "      <td>7.000000</td>\n",
       "      <td>6.000000</td>\n",
       "      <td>448.000000</td>\n",
       "      <td>526.000000</td>\n",
       "    </tr>\n",
       "    <tr>\n",
       "      <th>75%</th>\n",
       "      <td>35.000000</td>\n",
       "      <td>10.000000</td>\n",
       "      <td>9.000000</td>\n",
       "      <td>10.000000</td>\n",
       "      <td>1426.000000</td>\n",
       "      <td>693.000000</td>\n",
       "    </tr>\n",
       "    <tr>\n",
       "      <th>max</th>\n",
       "      <td>44.000000</td>\n",
       "      <td>128.000000</td>\n",
       "      <td>128.000000</td>\n",
       "      <td>128.000000</td>\n",
       "      <td>2500.000000</td>\n",
       "      <td>2500.000000</td>\n",
       "    </tr>\n",
       "  </tbody>\n",
       "</table>\n",
       "</div>"
      ],
      "text/plain": [
       "             hero_id          kills         deaths        assists  \\\n",
       "count  144359.000000  144359.000000  144359.000000  144359.000000   \n",
       "mean       25.115234       7.820926       6.945476       7.214396   \n",
       "std        13.871377       9.381611       4.438477       6.592025   \n",
       "min         6.000000       0.000000       0.000000       0.000000   \n",
       "25%        14.000000       3.000000       4.000000       3.000000   \n",
       "50%        32.000000       6.000000       7.000000       6.000000   \n",
       "75%        35.000000      10.000000       9.000000      10.000000   \n",
       "max        44.000000     128.000000     128.000000     128.000000   \n",
       "\n",
       "        gold_per_min     xp_per_min  \n",
       "count  144359.000000  144359.000000  \n",
       "mean      920.564717     563.317819  \n",
       "std       889.883984     286.585643  \n",
       "min        10.000000       0.000000  \n",
       "25%       316.000000     376.000000  \n",
       "50%       448.000000     526.000000  \n",
       "75%      1426.000000     693.000000  \n",
       "max      2500.000000    2500.000000  "
      ]
     },
     "execution_count": 64,
     "metadata": {},
     "output_type": "execute_result"
    }
   ],
   "source": [
    "df_top5.describe()"
   ]
  },
  {
   "cell_type": "code",
   "execution_count": 71,
   "metadata": {},
   "outputs": [
    {
     "data": {
      "image/png": "[encoded data removed]",
      "text/plain": [
       "<Figure size 720x360 with 1 Axes>"
      ]
     },
     "metadata": {},
     "output_type": "display_data"
    }
   ],
   "source": [
    "fig,ax = plt.subplots(figsize = (10,5))\n",
    "\n",
    "ax = sns.kdeplot(df_full['kills'])\n",
    "\n",
    "# Plotting a top 5 character's kills distribution\n",
    "sns.kdeplot(df_full[df_full['hero_id'].isin(top5_ids)]['kills']) \n",
    "\n",
    "ax.set_title('Distribution of Kills with Outliers')\n",
    "\n",
    "ax.set_xlabel('Number of Kills')\n",
    "\n",
    "ax.set_ylabel('Kernel Density')\n",
    "\n",
    "ax.legend(['Sample','5 Most Popular Characters'])\n",
    "\n",
    "#ax.axvline(df_full['kills'].mean(),c='grey')  ## mean of the sample kills\n",
    "\n",
    "\n",
    "ax.axvline\n",
    "plt.show()"
   ]
  },
  {
   "cell_type": "code",
   "execution_count": 42,
   "metadata": {},
   "outputs": [
    {
     "data": {
      "image/png": "[encoded data removed]",
      "text/plain": [
       "<Figure size 720x432 with 2 Axes>"
      ]
     },
     "metadata": {},
     "output_type": "display_data"
    }
   ],
   "source": [
    "fig,axs = plt.subplots(2,1,figsize=(10,6))\n",
    "\n",
    "sns.boxplot(df_full['kills'], ax = axs[0]) ## sample\n",
    "\n",
    "sns.boxplot(df_full[df_full['hero_id'].isin(top5_ids)]['kills'], ax = axs[1],color = 'lightblue')  ## top-5\n",
    "\n",
    "plt.show()"
   ]
  },
  {
   "cell_type": "code",
   "execution_count": 43,
   "metadata": {},
   "outputs": [],
   "source": [
    "## Removing outliers for the kills column.\n"
   ]
  },
  {
   "cell_type": "code",
   "execution_count": 44,
   "metadata": {},
   "outputs": [],
   "source": [
    "def subset_by_iqr(df,col):\n",
    "    \n",
    "    q1 = df[col].quantile(0.25)\n",
    "    q3 = df[col].quantile(0.75)\n",
    "    iqr = q3 - q1\n",
    "    \n",
    "    filt_condition = (df[col] >= q1 - 1.5 * iqr) & (df[col] <= q3 + 1.5 * iqr)\n",
    "    \n",
    "    return df[filt_condition][col]"
   ]
  },
  {
   "cell_type": "code",
   "execution_count": 133,
   "metadata": {},
   "outputs": [
    {
     "data": {
      "image/png": "[encoded data removed]",
      "text/plain": [
       "<Figure size 432x288 with 2 Axes>"
      ]
     },
     "metadata": {
      "needs_background": "light"
     },
     "output_type": "display_data"
    }
   ],
   "source": [
    "plt,axs = plt.subplots(2,1)\n",
    "sns.boxplot(subset_by_iqr(df_full,'kills'),ax = axs[0])\n",
    "sns.boxplot(subset_by_iqr(df_top5,'kills'), ax = axs[1])\n",
    "plt.show()"
   ]
  },
  {
   "cell_type": "code",
   "execution_count": 90,
   "metadata": {},
   "outputs": [],
   "source": [
    "import pandas as pd\n",
    "import numpy as np\n",
    "import scipy.stats as stats\n",
    "import matplotlib.pyplot as plt\n",
    "#import seaborn as sns\n",
    "%matplotlib inline\n",
    "plt.style.use('ggplot')"
   ]
  },
  {
   "cell_type": "code",
   "execution_count": 156,
   "metadata": {},
   "outputs": [
    {
     "data": {
      "image/png": "[encoded data removed]",
      "text/plain": [
       "<Figure size 720x360 with 1 Axes>"
      ]
     },
     "metadata": {},
     "output_type": "display_data"
    },
    {
     "data": {
      "text/plain": [
       "<Figure size 432x288 with 0 Axes>"
      ]
     },
     "metadata": {},
     "output_type": "display_data"
    }
   ],
   "source": [
    "fig,ax = plt.subplots(figsize=(10,5))\n",
    "\n",
    "ax.hist(subset_by_iqr(df_rest,'kills'), alpha = 0.5)\n",
    "\n",
    "ax.hist(subset_by_iqr(df_top5,'kills'), alpha = 0.5)\n",
    "\n",
    "ax.axvline(subset_by_iqr(df_top5,'kills').quantile(.5),c='gray')\n",
    "\n",
    "ax.axvline(subset_by_iqr(df_rest,'kills').quantile(.5),linestyle='--')\n",
    "\n",
    "ax.legend(['5 Most Popular Characters', 'Rest'])\n",
    "\n",
    "ax.set_xlabel('Kills per Match')\n",
    "\n",
    "ax.set_ylabel('Number of players')\n",
    "\n",
    "plt.show()\n",
    "plt.savefig('kills_histogram.png')"
   ]
  },
  {
   "cell_type": "code",
   "execution_count": 125,
   "metadata": {},
   "outputs": [
    {
     "data": {
      "text/plain": [
       "count    961193.000000\n",
       "mean          5.113767\n",
       "std           4.095987\n",
       "min           0.000000\n",
       "25%           2.000000\n",
       "50%           4.000000\n",
       "75%           8.000000\n",
       "max          17.000000\n",
       "Name: kills, dtype: float64"
      ]
     },
     "execution_count": 125,
     "metadata": {},
     "output_type": "execute_result"
    }
   ],
   "source": [
    "subset_by_iqr(df_rest,'kills').describe()"
   ]
  },
  {
   "cell_type": "code",
   "execution_count": 126,
   "metadata": {},
   "outputs": [
    {
     "data": {
      "text/plain": [
       "count    137380.000000\n",
       "mean          6.522478\n",
       "std           4.925248\n",
       "min           0.000000\n",
       "25%           3.000000\n",
       "50%           5.000000\n",
       "75%          10.000000\n",
       "max          20.000000\n",
       "Name: kills, dtype: float64"
      ]
     },
     "execution_count": 126,
     "metadata": {},
     "output_type": "execute_result"
    }
   ],
   "source": [
    "subset_by_iqr(df_top5,'kills').describe()"
   ]
  },
  {
   "cell_type": "code",
   "execution_count": 140,
   "metadata": {},
   "outputs": [
    {
     "name": "stdout",
     "output_type": "stream",
     "text": [
      "0.0\n"
     ]
    }
   ],
   "source": [
    "import numpy as np\n",
    "import scipy.stats as stats\n",
    "stats,pval = stats.ttest_ind(df_full['kills'],df_top5['kills'],equal_var=False)\n",
    "print(pval)"
   ]
  },
  {
   "cell_type": "code",
   "execution_count": 115,
   "metadata": {},
   "outputs": [
    {
     "data": {
      "text/plain": [
       "MannwhitneyuResult(statistic=83408972475.5, pvalue=0.0)"
      ]
     },
     "execution_count": 115,
     "metadata": {},
     "output_type": "execute_result"
    }
   ],
   "source": [
    "# Performing a non-parametric test: Mann-Whitney Signed Rank Test for feature: kills\n",
    "\n",
    "res = stats.mannwhitneyu(df_top5['kills'],df_rest['kills'],alternative = 'greater')\n",
    "res"
   ]
  },
  {
   "cell_type": "code",
   "execution_count": 92,
   "metadata": {},
   "outputs": [
    {
     "data": {
      "image/png": "[encoded data removed]",
      "text/plain": [
       "<Figure size 432x288 with 2 Axes>"
      ]
     },
     "metadata": {},
     "output_type": "display_data"
    }
   ],
   "source": [
    "plt,axs = plt.subplots(2,1)\n",
    "sns.boxplot(subset_by_iqr(df_full,'deaths'),ax = axs[0])\n",
    "sns.boxplot(subset_by_iqr(df_top5,'deaths'), ax = axs[1])\n",
    "plt.show()"
   ]
  },
  {
   "cell_type": "code",
   "execution_count": 119,
   "metadata": {},
   "outputs": [
    {
     "data": {
      "image/png": "[encoded data removed]",
      "text/plain": [
       "<Figure size 720x360 with 1 Axes>"
      ]
     },
     "metadata": {},
     "output_type": "display_data"
    }
   ],
   "source": [
    "import pandas as pd\n",
    "import numpy as np\n",
    "import scipy.stats as stats\n",
    "import matplotlib.pyplot as plt\n",
    "#import seaborn as sns\n",
    "%matplotlib inline\n",
    "plt.style.use('ggplot')\n",
    "\n",
    "fig,ax = plt.subplots(figsize=(10,5))\n",
    "\n",
    "ax.hist(subset_by_iqr(df_rest,'deaths'),alpha = 0.5)\n",
    "\n",
    "ax.hist(subset_by_iqr(df_top5,'deaths'),alpha = 0.5)\n",
    "plt.show()"
   ]
  },
  {
   "cell_type": "code",
   "execution_count": 121,
   "metadata": {},
   "outputs": [
    {
     "data": {
      "text/plain": [
       "MannwhitneyuResult(statistic=73127320488.5, pvalue=2.951321989356567e-31)"
      ]
     },
     "execution_count": 121,
     "metadata": {},
     "output_type": "execute_result"
    }
   ],
   "source": [
    "# Performing a non-parametric test: Mann-Whitney Signed Rank Test for feature: deaths\n",
    "\n",
    "res = stats.mannwhitneyu(df_top5['deaths'],df_rest['deaths'],alternative = 'greater')\n",
    "res"
   ]
  },
  {
   "cell_type": "code",
   "execution_count": 154,
   "metadata": {},
   "outputs": [
    {
     "name": "stdout",
     "output_type": "stream",
     "text": [
      "1.9616701166961974e-06\n"
     ]
    }
   ],
   "source": [
    "stats,pval = stats.ttest_ind(df_rest['deaths'],df_top5['deaths'],equal_var=False)\n",
    "print(pval)"
   ]
  },
  {
   "cell_type": "code",
   "execution_count": null,
   "metadata": {},
   "outputs": [],
   "source": []
  },
  {
   "cell_type": "code",
   "execution_count": 153,
   "metadata": {},
   "outputs": [
    {
     "data": {
      "image/png": "[encoded data removed]",
      "text/plain": [
       "<Figure size 720x360 with 1 Axes>"
      ]
     },
     "metadata": {},
     "output_type": "display_data"
    }
   ],
   "source": [
    "fig,ax = plt.subplots(figsize=(10,5))\n",
    "\n",
    "ax = sns.distplot(subset_by_iqr(df_rest,'deaths'))\n",
    "\n",
    "sns.distplot(subset_by_iqr(df_top5,'deaths'))\n",
    "plt.show()"
   ]
  },
  {
   "cell_type": "code",
   "execution_count": 142,
   "metadata": {},
   "outputs": [
    {
     "data": {
      "image/png": "[encoded data removed]",
      "text/plain": [
       "<Figure size 720x360 with 1 Axes>"
      ]
     },
     "metadata": {},
     "output_type": "display_data"
    }
   ],
   "source": [
    "import pandas as pd\n",
    "import numpy as np\n",
    "import scipy.stats as stats\n",
    "import matplotlib.pyplot as plt\n",
    "#import seaborn as sns\n",
    "%matplotlib inline\n",
    "plt.style.use('ggplot')\n",
    "fig,ax = plt.subplots(figsize = (10,5))\n",
    "\n",
    "ax = sns.kdeplot(subset_by_iqr(df_full,'xp_per_min'))\n",
    "\n",
    "# Plotting a top 5 character's kills distribution\n",
    "sns.kdeplot(subset_by_iqr(df_top5,'xp_per_min')) \n",
    "\n",
    "ax.legend(['Total Sample','Top 5 Characters'])\n",
    "plt.show()"
   ]
  },
  {
   "cell_type": "code",
   "execution_count": 270,
   "metadata": {},
   "outputs": [
    {
     "data": {
      "text/html": [
       "<div>\n",
       "<style scoped>\n",
       "    .dataframe tbody tr th:only-of-type {\n",
       "        vertical-align: middle;\n",
       "    }\n",
       "\n",
       "    .dataframe tbody tr th {\n",
       "        vertical-align: top;\n",
       "    }\n",
       "\n",
       "    .dataframe thead th {\n",
       "        text-align: right;\n",
       "    }\n",
       "</style>\n",
       "<table border=\"1\" class=\"dataframe\">\n",
       "  <thead>\n",
       "    <tr style=\"text-align: right;\">\n",
       "      <th></th>\n",
       "      <th>summary</th>\n",
       "      <th>hero_id</th>\n",
       "      <th>kd_ratio</th>\n",
       "      <th>ad_ratio</th>\n",
       "      <th>average_kills</th>\n",
       "      <th>average_deaths</th>\n",
       "      <th>average_assists</th>\n",
       "      <th>average_gold</th>\n",
       "      <th>average_xp</th>\n",
       "      <th>freq</th>\n",
       "      <th>percent</th>\n",
       "    </tr>\n",
       "  </thead>\n",
       "  <tbody>\n",
       "    <tr>\n",
       "      <th>0</th>\n",
       "      <td>count</td>\n",
       "      <td>112</td>\n",
       "      <td>111</td>\n",
       "      <td>111</td>\n",
       "      <td>112</td>\n",
       "      <td>112</td>\n",
       "      <td>112</td>\n",
       "      <td>97</td>\n",
       "      <td>112</td>\n",
       "      <td>112</td>\n",
       "      <td>112</td>\n",
       "    </tr>\n",
       "    <tr>\n",
       "      <th>1</th>\n",
       "      <td>mean</td>\n",
       "      <td>56.330357142857146</td>\n",
       "      <td>0.817748</td>\n",
       "      <td>1.322072</td>\n",
       "      <td>5.647679</td>\n",
       "      <td>6.959643</td>\n",
       "      <td>9.170089</td>\n",
       "      <td>650.650000</td>\n",
       "      <td>481.850536</td>\n",
       "      <td>10168.1875</td>\n",
       "      <td>0.008928571428571433</td>\n",
       "    </tr>\n",
       "    <tr>\n",
       "      <th>2</th>\n",
       "      <td>stddev</td>\n",
       "      <td>32.844264899800045</td>\n",
       "      <td>0.2225296085904676</td>\n",
       "      <td>0.31625684934621523</td>\n",
       "      <td>1.5916091818171911</td>\n",
       "      <td>0.9941558314700052</td>\n",
       "      <td>2.4816495878026226</td>\n",
       "      <td>172.18989960215444</td>\n",
       "      <td>83.32312163925705</td>\n",
       "      <td>6598.429643280271</td>\n",
       "      <td>0.0057940070820321704</td>\n",
       "    </tr>\n",
       "    <tr>\n",
       "      <th>3</th>\n",
       "      <td>min</td>\n",
       "      <td>0</td>\n",
       "      <td>0.35</td>\n",
       "      <td>0.68</td>\n",
       "      <td>0.00</td>\n",
       "      <td>0.00</td>\n",
       "      <td>0.00</td>\n",
       "      <td>312.06</td>\n",
       "      <td>0.08</td>\n",
       "      <td>60</td>\n",
       "      <td>5.268532722417695E-5</td>\n",
       "    </tr>\n",
       "    <tr>\n",
       "      <th>4</th>\n",
       "      <td>max</td>\n",
       "      <td>113</td>\n",
       "      <td>1.57</td>\n",
       "      <td>2.13</td>\n",
       "      <td>9.67</td>\n",
       "      <td>9.97</td>\n",
       "      <td>17.48</td>\n",
       "      <td>987.94</td>\n",
       "      <td>669.90</td>\n",
       "      <td>35634</td>\n",
       "      <td>0.031289815838438685</td>\n",
       "    </tr>\n",
       "  </tbody>\n",
       "</table>\n",
       "</div>"
      ],
      "text/plain": [
       "  summary             hero_id            kd_ratio             ad_ratio  \\\n",
       "0   count                 112                 111                  111   \n",
       "1    mean  56.330357142857146            0.817748             1.322072   \n",
       "2  stddev  32.844264899800045  0.2225296085904676  0.31625684934621523   \n",
       "3     min                   0                0.35                 0.68   \n",
       "4     max                 113                1.57                 2.13   \n",
       "\n",
       "        average_kills      average_deaths     average_assists  \\\n",
       "0                 112                 112                 112   \n",
       "1            5.647679            6.959643            9.170089   \n",
       "2  1.5916091818171911  0.9941558314700052  2.4816495878026226   \n",
       "3                0.00                0.00                0.00   \n",
       "4                9.67                9.97               17.48   \n",
       "\n",
       "         average_gold         average_xp               freq  \\\n",
       "0                  97                112                112   \n",
       "1          650.650000         481.850536         10168.1875   \n",
       "2  172.18989960215444  83.32312163925705  6598.429643280271   \n",
       "3              312.06               0.08                 60   \n",
       "4              987.94             669.90              35634   \n",
       "\n",
       "                 percent  \n",
       "0                    112  \n",
       "1   0.008928571428571433  \n",
       "2  0.0057940070820321704  \n",
       "3   5.268532722417695E-5  \n",
       "4   0.031289815838438685  "
      ]
     },
     "execution_count": 270,
     "metadata": {},
     "output_type": "execute_result"
    }
   ],
   "source": [
    "hyp_test_info"
   ]
  },
  {
   "cell_type": "code",
   "execution_count": null,
   "metadata": {},
   "outputs": [],
   "source": [
    "sns.distplot()"
   ]
  },
  {
   "cell_type": "markdown",
   "metadata": {},
   "source": [
    "Null Hypothesis ${H_0}$: Players do not choose a character to maximize their kill counts.\n",
    "\n",
    "\n",
    "Alternate Hypothesis $H_A$: Players choose a character over another in order to maximize their kill counts."
   ]
  },
  {
   "cell_type": "code",
   "execution_count": 130,
   "metadata": {},
   "outputs": [],
   "source": [
    "## IF I have enough Time, perform a deeper EDA with roles, rather than characters, and perform a hypothesis test"
   ]
  },
  {
   "cell_type": "code",
   "execution_count": null,
   "metadata": {},
   "outputs": [],
   "source": [
    "## converting the pandas dataframe into a spark dataframe\n",
    "spark_hero = spark.createDataFrame(hero_df)\n",
    "\n",
    "## Performing a lateral view explode on the roles column\n",
    "spark_hero.createOrReplaceTempView(\"roles\")\n",
    "\n",
    "query = \"\"\"\n",
    "SELECT id, localized_name, role\n",
    "from roles\n",
    "lateral view explode(roles) as role\n",
    "\"\"\"\n",
    "spark_hero_df = spark.sql(query)\n",
    "\n",
    "## renaming the id column into hero_id\n",
    "spark_hero_df = spark_hero_df.withColumnRenamed('id','hero_id')\n",
    "\n",
    "spark_hero_df.show(5)"
   ]
  },
  {
   "cell_type": "code",
   "execution_count": 129,
   "metadata": {},
   "outputs": [
    {
     "name": "stdout",
     "output_type": "stream",
     "text": [
      "+---------+-----------+---------+------------+----------+---------+----------+---------+--------+------+\n",
      "|     role|total_kills|avg_kills|total_deaths|avg_deaths|   gold_m|avg_gold_m|     xp_m|avg_xp_m|  freq|\n",
      "+---------+-----------+---------+------------+----------+---------+----------+---------+--------+------+\n",
      "| Disabler|    4635831|     5.93|     5500317|      7.03|631044626|    806.58|396693903|  507.04|782372|\n",
      "|    Nuker|    4480191|     5.87|     5378818|      7.04|617853267|    809.24|385662592|  505.13|763497|\n",
      "|    Carry|    4548094|     6.25|     4934375|      6.78|637626189|    875.63|392307205|  538.74|728190|\n",
      "|Initiator|    2984178|     5.92|     3605219|      7.15|414653532|    822.61|256300791|  508.46|504070|\n",
      "|   Escape|    2747610|     5.92|     3125919|      6.74|393801919|    848.75|243619149|  525.06|463981|\n",
      "|  Durable|    2579031|     6.06|     2948227|      6.93|341572853|    803.13|218903906|  514.70|425300|\n",
      "|  Support|    1662131|     5.00|     2312740|      6.95|270021785|    811.71|161200406|  484.59|332656|\n",
      "|   Pusher|    1520316|     5.55|     1891350|      6.90|245169425|    894.32|143418025|  523.15|274142|\n",
      "|  Jungler|     862756|     5.89|     1026199|      7.01|110215237|    752.70| 73720234|  503.46|146426|\n",
      "+---------+-----------+---------+------------+----------+---------+----------+---------+--------+------+\n",
      "\n"
     ]
    }
   ],
   "source": [
    "## Joining a datafreme extracted from a .csv file with a dataframe extracted from API\n",
    "\n",
    "df_raw = df_players_samples_eda.join(spark_hero_df, 'hero_id')\n",
    "\n",
    "df_raw.cache()\n",
    "\n",
    "df_raw.createOrReplaceTempView('rawData')\n",
    "\n",
    "query = \"\"\"\n",
    "SELECT \n",
    "    role,\n",
    "    SUM(kills) as total_kills,\n",
    "    CAST(SUM(kills) / COUNT(*) as DECIMAL(5,2)) as avg_kills,\n",
    "    SUM(deaths) as total_deaths,\n",
    "    CAST(SUM(deaths) / COUNT(*) as DECIMAL(5,2)) as avg_deaths,\n",
    "    SUM(gold_per_min) as gold_m,\n",
    "    CAST(SUM(gold_per_min) / COUNT(*) as DECIMAL(10,2)) as avg_gold_m,\n",
    "    SUM(xp_per_min) as xp_m,\n",
    "    CAST(SUM(xp_per_min) / COUNT(*) as DECIMAL(10,2)) as avg_xp_m,\n",
    "    COUNT(role) as freq\n",
    "\n",
    "FROM rawData\n",
    "\n",
    "GROUP BY role\n",
    "    \n",
    "ORDER BY freq DESC\n",
    "\"\"\"\n",
    "spark.sql(query).show(20)"
   ]
  },
  {
   "cell_type": "code",
   "execution_count": null,
   "metadata": {},
   "outputs": [],
   "source": []
  }
 ],
 "metadata": {
  "kernelspec": {
   "display_name": "Python 3",
   "language": "python",
   "name": "python3"
  },
  "language_info": {
   "codemirror_mode": {
    "name": "ipython",
    "version": 3
   },
   "file_extension": ".py",
   "mimetype": "text/x-python",
   "name": "python",
   "nbconvert_exporter": "python",
   "pygments_lexer": "ipython3",
   "version": "3.7.6"
  }
 },
 "nbformat": 4,
 "nbformat_minor": 4
}
