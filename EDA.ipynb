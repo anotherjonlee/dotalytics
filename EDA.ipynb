{
 "cells": [
  {
   "cell_type": "code",
   "execution_count": 1,
   "metadata": {},
   "outputs": [],
   "source": [
    "from dotalytics.pipeline import *\n",
    "%matplotlib inline"
   ]
  },
  {
   "cell_type": "code",
   "execution_count": 24,
   "metadata": {},
   "outputs": [],
   "source": [
    "## Retrieving a missing hero names and roles information from the API.\n",
    "\n",
    "r = requests.get('https://api.opendota.com/api/heroes')\n",
    "hero_list = json.loads(r.text)\n",
    "\n",
    "## Saving the API info as a dataframe\n",
    "\n",
    "hero_df = pd.DataFrame(hero_list)\n",
    "hero_df.drop(['name','primary_attr','legs'],axis=1,inplace = True)"
   ]
  },
  {
   "cell_type": "code",
   "execution_count": 25,
   "metadata": {},
   "outputs": [],
   "source": [
    "spark = (ps.sql.SparkSession\n",
    "         .builder\n",
    "         .master('local[2]')\n",
    "         .appName('capstone')\n",
    "         .getOrCreate()\n",
    "        )"
   ]
  },
  {
   "cell_type": "code",
   "execution_count": 26,
   "metadata": {},
   "outputs": [],
   "source": [
    "samples_eda = spark.read.csv('players_larger_sample.csv',\n",
    "                             header = True,\n",
    "                             sep=',',\n",
    "                             inferSchema=True)"
   ]
  },
  {
   "cell_type": "code",
   "execution_count": 27,
   "metadata": {},
   "outputs": [
    {
     "name": "stdout",
     "output_type": "stream",
     "text": [
      "+-------+-----+------+\n",
      "|hero_id|kills|deaths|\n",
      "+-------+-----+------+\n",
      "|     14|   19|     8|\n",
      "|     32|    5|     2|\n",
      "|    100|    7|    19|\n",
      "|     76|    7|    10|\n",
      "|     86|   11|     5|\n",
      "+-------+-----+------+\n",
      "only showing top 5 rows\n",
      "\n"
     ]
    }
   ],
   "source": [
    "df_players_samples_eda = samples_eda.select('hero_id','kills','deaths')\n",
    "df_players_samples_eda.show(5)"
   ]
  },
  {
   "cell_type": "code",
   "execution_count": 28,
   "metadata": {},
   "outputs": [],
   "source": [
    "## Querying average stats by playable characters\n",
    "\n",
    "df_players_samples_eda.createOrReplaceTempView(\"stats\")\n",
    "\n",
    "query = \"\"\"\n",
    "SELECT \n",
    "    hero_id,\n",
    "    COUNT(hero_id) as freq\n",
    "FROM stats s\n",
    "GROUP BY hero_id\n",
    "ORDER BY freq DESC \n",
    "\"\"\"\n",
    "\n",
    "popularity_query = spark.sql(query)"
   ]
  },
  {
   "cell_type": "code",
   "execution_count": 29,
   "metadata": {},
   "outputs": [],
   "source": [
    "## Adding a percentage column for characters\n",
    "\n",
    "popularity_query = popularity_query.withColumn('percent',func.col('freq')/func.sum('freq').over(Window.partitionBy()))"
   ]
  },
  {
   "cell_type": "code",
   "execution_count": 30,
   "metadata": {},
   "outputs": [],
   "source": [
    "## Exporting the mean values to pandas \n",
    "\n",
    "pd_popularity = popularity_query.toPandas()"
   ]
  },
  {
   "cell_type": "code",
   "execution_count": 31,
   "metadata": {},
   "outputs": [],
   "source": [
    "pd_popularity['percent'] = pd_popularity['percent'].apply(lambda x: f'{float(x):.3f}')"
   ]
  },
  {
   "cell_type": "code",
   "execution_count": 32,
   "metadata": {},
   "outputs": [
    {
     "data": {
      "text/html": [
       "<div>\n",
       "<style scoped>\n",
       "    .dataframe tbody tr th:only-of-type {\n",
       "        vertical-align: middle;\n",
       "    }\n",
       "\n",
       "    .dataframe tbody tr th {\n",
       "        vertical-align: top;\n",
       "    }\n",
       "\n",
       "    .dataframe thead th {\n",
       "        text-align: right;\n",
       "    }\n",
       "</style>\n",
       "<table border=\"1\" class=\"dataframe\">\n",
       "  <thead>\n",
       "    <tr style=\"text-align: right;\">\n",
       "      <th></th>\n",
       "      <th>id</th>\n",
       "      <th>localized_name</th>\n",
       "      <th>attack_type</th>\n",
       "      <th>roles</th>\n",
       "    </tr>\n",
       "  </thead>\n",
       "  <tbody>\n",
       "    <tr>\n",
       "      <th>0</th>\n",
       "      <td>1</td>\n",
       "      <td>Anti-Mage</td>\n",
       "      <td>Melee</td>\n",
       "      <td>[Carry, Escape, Nuker]</td>\n",
       "    </tr>\n",
       "  </tbody>\n",
       "</table>\n",
       "</div>"
      ],
      "text/plain": [
       "   id localized_name attack_type                   roles\n",
       "0   1      Anti-Mage       Melee  [Carry, Escape, Nuker]"
      ]
     },
     "execution_count": 32,
     "metadata": {},
     "output_type": "execute_result"
    }
   ],
   "source": [
    "hero_df.head(1)"
   ]
  },
  {
   "cell_type": "code",
   "execution_count": 33,
   "metadata": {},
   "outputs": [],
   "source": [
    "## Removing the hero_id: 0, since it is not available from the API\n",
    "\n",
    "pd_popularity.drop(index=60,inplace = True)"
   ]
  },
  {
   "cell_type": "code",
   "execution_count": 34,
   "metadata": {},
   "outputs": [],
   "source": [
    "## Resetting the index\n",
    "\n",
    "pd_popularity.reset_index(drop = True, inplace = True)"
   ]
  },
  {
   "cell_type": "code",
   "execution_count": 46,
   "metadata": {},
   "outputs": [],
   "source": [
    "## Separating the roles\n",
    "\n",
    "df_chars = pd.merge(pd_popularity,\n",
    "                        hero_df,\n",
    "                        left_on = 'hero_id',\n",
    "                        right_on = 'id',\n",
    "                        how = 'inner')\\\n",
    "                            .drop('id',axis=1)"
   ]
  },
  {
   "cell_type": "code",
   "execution_count": 47,
   "metadata": {},
   "outputs": [],
   "source": [
    "## Converting a number of object columns into numeric columns\n",
    "\n",
    "cols = ['freq', 'percent']\n",
    "\n",
    "df_chars[cols] = df_chars[cols].apply(pd.to_numeric, errors = 'coerce')\n",
    "\n",
    "\n",
    "## Rearranging columns for better legibility\n",
    "\n",
    "cols_re = ['hero_id','localized_name','roles','freq','percent']\n",
    "\n",
    "df_chars = df_chars[cols_re]\n",
    "\n",
    "df_chars['popularity'] = df_chars['freq'].rank(ascending = False)"
   ]
  },
  {
   "cell_type": "code",
   "execution_count": 50,
   "metadata": {},
   "outputs": [
    {
     "data": {
      "text/html": [
       "<div>\n",
       "<style scoped>\n",
       "    .dataframe tbody tr th:only-of-type {\n",
       "        vertical-align: middle;\n",
       "    }\n",
       "\n",
       "    .dataframe tbody tr th {\n",
       "        vertical-align: top;\n",
       "    }\n",
       "\n",
       "    .dataframe thead th {\n",
       "        text-align: right;\n",
       "    }\n",
       "</style>\n",
       "<table border=\"1\" class=\"dataframe\">\n",
       "  <thead>\n",
       "    <tr style=\"text-align: right;\">\n",
       "      <th></th>\n",
       "      <th>hero_id</th>\n",
       "      <th>localized_name</th>\n",
       "      <th>roles</th>\n",
       "      <th>freq</th>\n",
       "      <th>percent</th>\n",
       "      <th>popularity</th>\n",
       "    </tr>\n",
       "  </thead>\n",
       "  <tbody>\n",
       "    <tr>\n",
       "      <th>0</th>\n",
       "      <td>14</td>\n",
       "      <td>Pudge</td>\n",
       "      <td>[Disabler, Initiator, Durable, Nuker]</td>\n",
       "      <td>35634</td>\n",
       "      <td>0.031</td>\n",
       "      <td>1.0</td>\n",
       "    </tr>\n",
       "    <tr>\n",
       "      <th>1</th>\n",
       "      <td>35</td>\n",
       "      <td>Sniper</td>\n",
       "      <td>[Carry, Nuker]</td>\n",
       "      <td>30918</td>\n",
       "      <td>0.027</td>\n",
       "      <td>2.0</td>\n",
       "    </tr>\n",
       "    <tr>\n",
       "      <th>2</th>\n",
       "      <td>6</td>\n",
       "      <td>Drow Ranger</td>\n",
       "      <td>[Carry, Disabler, Pusher]</td>\n",
       "      <td>28480</td>\n",
       "      <td>0.025</td>\n",
       "      <td>3.0</td>\n",
       "    </tr>\n",
       "    <tr>\n",
       "      <th>3</th>\n",
       "      <td>32</td>\n",
       "      <td>Riki</td>\n",
       "      <td>[Carry, Escape, Disabler]</td>\n",
       "      <td>24722</td>\n",
       "      <td>0.022</td>\n",
       "      <td>4.0</td>\n",
       "    </tr>\n",
       "    <tr>\n",
       "      <th>4</th>\n",
       "      <td>44</td>\n",
       "      <td>Phantom Assassin</td>\n",
       "      <td>[Carry, Escape]</td>\n",
       "      <td>24605</td>\n",
       "      <td>0.022</td>\n",
       "      <td>5.0</td>\n",
       "    </tr>\n",
       "  </tbody>\n",
       "</table>\n",
       "</div>"
      ],
      "text/plain": [
       "   hero_id    localized_name                                  roles   freq  \\\n",
       "0       14             Pudge  [Disabler, Initiator, Durable, Nuker]  35634   \n",
       "1       35            Sniper                         [Carry, Nuker]  30918   \n",
       "2        6       Drow Ranger              [Carry, Disabler, Pusher]  28480   \n",
       "3       32              Riki              [Carry, Escape, Disabler]  24722   \n",
       "4       44  Phantom Assassin                        [Carry, Escape]  24605   \n",
       "\n",
       "   percent  popularity  \n",
       "0    0.031         1.0  \n",
       "1    0.027         2.0  \n",
       "2    0.025         3.0  \n",
       "3    0.022         4.0  \n",
       "4    0.022         5.0  "
      ]
     },
     "execution_count": 50,
     "metadata": {},
     "output_type": "execute_result"
    }
   ],
   "source": [
    "df_chars.head(5)"
   ]
  },
  {
   "cell_type": "markdown",
   "metadata": {},
   "source": [
    "Out of a million sample data points, 144359 players had chosen to play as the above 5 characters. Let's see if we can find any statistical significance between the above 5 characters and the rest."
   ]
  },
  {
   "cell_type": "code",
   "execution_count": 38,
   "metadata": {},
   "outputs": [
    {
     "data": {
      "image/png": "[encoded data removed]",
      "text/plain": [
       "<Figure size 720x432 with 1 Axes>"
      ]
     },
     "metadata": {},
     "output_type": "display_data"
    }
   ],
   "source": [
    "fig,ax = plt.subplots(figsize=(10,6))\n",
    "\n",
    "labels = ['5 Most Popular Characters', 'Remaining 106 Characters']\n",
    "explode = (0.1,0)\n",
    "sizes = [0.38, 0.62]\n",
    "\n",
    "ax.pie([df_chars.loc[:5]['percent'].sum(), df_chars.loc[5:]['percent'].sum()],\n",
    "      explode = explode,\n",
    "      labels = labels,\n",
    "      startangle = 0,\n",
    "      autopct = '%1.1f%%')\n",
    "\n",
    "ax.axis('equal')\n",
    "ax.set_title('Character Popularity')\n",
    "\n",
    "plt.show()"
   ]
  },
  {
   "cell_type": "markdown",
   "metadata": {},
   "source": [
    "## Going back to the raw data for hypothesis testing"
   ]
  },
  {
   "cell_type": "markdown",
   "metadata": {},
   "source": [
    "Null Hypothesis ${H_0}$: Choosing one of the five most popular characters does not affect the number of kills per match.\n",
    "\n",
    "\n",
    "Alternate Hypothesis $H_A$: Choosing one of the five most popular characters increases the chance of scoring additional kills per match."
   ]
  },
  {
   "cell_type": "code",
   "execution_count": 39,
   "metadata": {},
   "outputs": [],
   "source": [
    "## Using the sample data to plot distributions\n",
    "df_full = df_players_samples_eda.toPandas()"
   ]
  },
  {
   "cell_type": "code",
   "execution_count": 40,
   "metadata": {},
   "outputs": [],
   "source": [
    "top5_ids = df_chars.iloc[:5]['hero_id']\n",
    "df_top5 = df_full[df_full['hero_id'].isin(top5_ids)]\n",
    "df_rest = df_full[~df_full['hero_id'].isin(top5_ids)]"
   ]
  },
  {
   "cell_type": "code",
   "execution_count": 41,
   "metadata": {},
   "outputs": [
    {
     "data": {
      "image/png": "[encoded data removed]",
      "text/plain": [
       "<Figure size 1080x576 with 1 Axes>"
      ]
     },
     "metadata": {
      "needs_background": "light"
     },
     "output_type": "display_data"
    }
   ],
   "source": [
    "fig,ax = plt.subplots(figsize = (15,8))\n",
    "\n",
    "ax = sns.distplot(df_rest['kills'], hist = False, kde_kws = {'color': 'red'}, label = 'Rest')\n",
    "ax = sns.distplot(df_top5['kills'], hist = False, kde_kws = {'color': 'blue'}, label = 'Top 5') \n",
    "\n",
    "ax.set_title('Distribution of Kills per Match')\n",
    "\n",
    "ax.set_xlabel('Kills Per Match')\n",
    "\n",
    "ax.set_ylabel('Frequency')\n",
    "\n",
    "ax.legend()\n",
    "\n",
    "plt.show()"
   ]
  },
  {
   "cell_type": "code",
   "execution_count": 42,
   "metadata": {},
   "outputs": [
    {
     "name": "stdout",
     "output_type": "stream",
     "text": [
      "The mean of the kills/match for the top 5: 7.8209256090718275\n",
      "The standard deviation of the kills/match for the top 5: 7.8209256090718275\n",
      "\n",
      "The mean of the kills/match for the rest of the characters: 5.691196788667019\n",
      "The standard deviation of the kills/match for the rest: 5.258115650462181\n"
     ]
    },
    {
     "data": {
      "image/png": "[encoded data removed]",
      "text/plain": [
       "<Figure size 720x504 with 1 Axes>"
      ]
     },
     "metadata": {
      "needs_background": "light"
     },
     "output_type": "display_data"
    }
   ],
   "source": [
    "rest_processed = subset_by_iqr(df_rest,'kills')\n",
    "top5_processed = subset_by_iqr(df_top5,'kills')\n",
    "\n",
    "rest_mean = np.mean(df_rest['kills'])\n",
    "top_mean = np.mean(df_top5['kills'])\n",
    "\n",
    "rest_std = np.std(df_rest['kills'])\n",
    "top_std = np.std(df_top5['kills'])\n",
    "\n",
    "plt,ax = plt.subplots(1, figsize = (10,7))\n",
    "\n",
    "ax.boxplot([rest_processed,top5_processed])\n",
    "\n",
    "ax.set_xticks([1,2])\n",
    "ax.set_xticklabels([\"Rest\",\"Top 5 Characters\"])\n",
    "ax.set_title(\"Kills per March: Rest vs. Top 5\" )\n",
    "\n",
    "plt.show()\n",
    "\n",
    "print(f'The mean of the kills/match for the top 5: {top_mean}')\n",
    "print(f'The standard deviation of the kills/match for the top 5: {top_mean}')\n",
    "print()\n",
    "print(f'The mean of the kills/match for the rest of the characters: {rest_mean}')\n",
    "print(f'The standard deviation of the kills/match for the rest: {rest_std}')"
   ]
  },
  {
   "cell_type": "code",
   "execution_count": 43,
   "metadata": {},
   "outputs": [
    {
     "name": "stdout",
     "output_type": "stream",
     "text": [
      "The p-value from the Welch T test is: 0.0\n"
     ]
    }
   ],
   "source": [
    "stats, pval = stats.ttest_ind(df_top5['kills'],df_rest['kills'],equal_var=False)\n",
    "print(f'The p-value from the Welch T test is: {pval}')"
   ]
  },
  {
   "cell_type": "markdown",
   "metadata": {},
   "source": [
    "The Welch's t-test and the Student's t-test assume that both sample groups have normal distributions. As per the Law of large numbers and the fact that I am dealing with a million data points, I can assume that the samples I am working with would be normally distributed. However, I cannot  assume that the variance would be similar from both sample groups. does not appear to be significantly large, but the p-value from the Welch's t-test indicates that the difference in fact is statistically significant."
   ]
  },
  {
   "cell_type": "code",
   "execution_count": 44,
   "metadata": {},
   "outputs": [
    {
     "data": {
      "text/plain": [
       "MannwhitneyuResult(statistic=241295586053.0, pvalue=0.0)"
      ]
     },
     "execution_count": 44,
     "metadata": {},
     "output_type": "execute_result"
    }
   ],
   "source": [
    "# Performing a non-parametric test: Mann-Whitney Signed Rank Test for feature: kills\n",
    "import scipy.stats as stats\n",
    "res = stats.mannwhitneyu(df_top5,df_rest, alternative = 'two-sided')\n",
    "res"
   ]
  },
  {
   "cell_type": "code",
   "execution_count": 54,
   "metadata": {},
   "outputs": [
    {
     "data": {
      "image/png": "[encoded data removed]",
      "text/plain": [
       "<Figure size 720x432 with 2 Axes>"
      ]
     },
     "metadata": {
      "needs_background": "light"
     },
     "output_type": "display_data"
    },
    {
     "name": "stdout",
     "output_type": "stream",
     "text": [
      "95% confidence interval for top 5: [7.772530431853918, 7.869320786289737]\n",
      "95% confidence interval for the rest: [5.680862498892597, 5.701531078441442]\n"
     ]
    }
   ],
   "source": [
    "y1 = stats.norm(np.mean(df_top5['kills']),np.std(df_top5['kills'])/np.sqrt(len(df_top5)))\n",
    "#y2 = stats.norm(np.mean(df_top5['kills']),np.std(df_top5['kills']))\n",
    "y3 = stats.norm(np.mean(df_rest['kills']),np.std(df_rest['kills'])/np.sqrt(len(df_rest)))\n",
    "\n",
    "x = np.linspace(np.mean(df_rest['kills'])-0.1,np.mean(df_top5['kills'])+0.1, 101)\n",
    "\n",
    "left_ci_t, right_ci_t = y1.ppf(0.025), y1.ppf(0.975)\n",
    "left_ci_r, right_ci_r = y3.ppf(0.025), y3.ppf(0.975)\n",
    "\n",
    "fig, ax1 = plt.subplots(figsize=(10,6))\n",
    "\n",
    "ax2 = ax1.twinx()\n",
    "\n",
    "ax1.plot(x, y3.pdf(x), c='blue', alpha = 0.4)\n",
    "ax2.plot(x, y1.pdf(x), c = 'red', alpha = 0.4)\n",
    "\n",
    "ax1.set_ylabel('Rest', c = 'blue')\n",
    "ax1.tick_params(axis= 'y', labelcolor = 'blue')\n",
    "#ax1.fill_between(x,y3, c = 'blue')\n",
    "\n",
    "ax2.set_ylabel('Top 5', c = 'red')\n",
    "ax2.tick_params(axis='y',labelcolor = 'red')\n",
    "\n",
    "ax1.grid(False)\n",
    "ax2.grid(False)\n",
    "\n",
    "plt.show()\n",
    "\n",
    "print(f'95% confidence interval for top 5: [{left_ci_t}, {right_ci_t}]')\n",
    "print(f'95% confidence interval for the rest: [{left_ci_r}, {right_ci_r}]')"
   ]
  },
  {
   "cell_type": "markdown",
   "metadata": {},
   "source": []
  }
 ],
 "metadata": {
  "kernelspec": {
   "display_name": "Python 3",
   "language": "python",
   "name": "python3"
  },
  "language_info": {
   "codemirror_mode": {
    "name": "ipython",
    "version": 3
   },
   "file_extension": ".py",
   "mimetype": "text/x-python",
   "name": "python",
   "nbconvert_exporter": "python",
   "pygments_lexer": "ipython3",
   "version": "3.7.6"
  }
 },
 "nbformat": 4,
 "nbformat_minor": 4
}
